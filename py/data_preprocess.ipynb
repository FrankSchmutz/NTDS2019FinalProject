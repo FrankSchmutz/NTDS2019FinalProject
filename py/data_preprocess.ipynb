{
 "cells": [
  {
   "cell_type": "code",
   "execution_count": 261,
   "metadata": {},
   "outputs": [],
   "source": [
    "import numpy as np\n",
    "import pandas as pd\n",
    "import matplotlib.pyplot as plt"
   ]
  },
  {
   "cell_type": "code",
   "execution_count": 262,
   "metadata": {},
   "outputs": [
    {
     "data": {
      "text/plain": [
       "(7184, 14)"
      ]
     },
     "execution_count": 262,
     "metadata": {},
     "output_type": "execute_result"
    }
   ],
   "source": [
    "path = \"flight_data/\"\n",
    "\n",
    "nodes_col_Names = ['Airport_ID', 'Name', 'City', 'Country', 'IATA', 'ICAO', 'Latitude', 'Longitude', 'Altitude', 'Timezone', 'DST', 'Tz_database_time_zone', 'Type', 'Source']\n",
    "edges_col_Names = ['Airline', 'Airline_ID', 'Source_Airport', 'Source_Airport_ID', 'Destination_Airport', 'Destination_Airport_ID', 'Codeshare', 'Stops', 'Equipment']\n",
    "\n",
    "nodes_df = pd.read_csv(path+'/airports.dat', names = nodes_col_Names)\n",
    "edges_df = pd.read_csv(path+'/routes.dat', names = edges_col_Names)\n",
    "\n",
    "nodes_df.shape"
   ]
  },
  {
   "cell_type": "code",
   "execution_count": 263,
   "metadata": {},
   "outputs": [
    {
     "data": {
      "text/plain": [
       "(7215, 15)"
      ]
     },
     "execution_count": 263,
     "metadata": {},
     "output_type": "execute_result"
    }
   ],
   "source": [
    "c_1 = pd.read_csv('data/Countries-Continents.csv')\n",
    "c_1.loc[len(c_1)]=['Asia','Russia'] \n",
    "c_1.loc[len(c_1)]=['North America','United States'] \n",
    "c_1.loc[len(c_1)]=['Africa','Cote d\\'Ivoire'] \n",
    "c_1.loc[len(c_1)]=['Africa','Congo (Kinshasa)'] \n",
    "c_1.loc[len(c_1)]=['Asia','South Korea'] \n",
    "c_1.loc[len(c_1)]=['Asia','Burma'] \n",
    "c_1.loc[len(c_1)]=['Europe','Czech Republic'] \n",
    "c_1.loc[len(c_1)]=['Asia','North Korea'] \n",
    "c_1.loc[len(c_1)]=['Antarctica','Antarctica'] \n",
    "c_1.loc[len(c_1)]=['Antarctica','Antarctica'] \n",
    "c_1.loc[len(c_1)]=['Asia','Taiwan'] \n",
    "c_1.loc[len(c_1)]=['Africa','Congo (Brazzaville)'] \n",
    "c_1.loc[len(c_1)]=['Africa','Reunion'] \n",
    "c_1.loc[len(c_1)]=['Asia','West Bank'] \n",
    "c_1.loc[len(c_1)]=['Asia','Taiwan'] \n",
    "c_1.loc[len(c_1)]=['North America','Greenland'] \n",
    "c_1.loc[len(c_1)]=['Africa','Burkina Faso'] \n",
    "c_1.loc[len(c_1)]=['Europe','Guernsey'] \n",
    "c_1.loc[len(c_1)]=['Europe','Jersey']\n",
    "c_1.loc[len(c_1)]=['Europe','Isle of Man']\n",
    "c_1.loc[len(c_1)]=['Europe','Isle Of Man']\n",
    "c_1.loc[len(c_1)]=['South America','Falkland Islands'] \n",
    "c_1.loc[len(c_1)]=['Africa','Dzaoudzi'] \n",
    "c_1.loc[len(c_1)]=['North America','Saint Pierre and Miquelon'] \n",
    "c_1.loc[len(c_1)]=['Europe','Gibraltar']\n",
    "c_1.loc[len(c_1)]=['South America','British Virgin Islands']\n",
    "c_1.loc[len(c_1)]=['Europe','Faroe Islands']\n",
    "c_1.loc[len(c_1)]=['Oceania','French Polynesia']\n",
    "c_1.loc[len(c_1)]=['South America','Puerto Rico']\n",
    "c_1.loc[len(c_1)]=['South America','Guadeloupe']\n",
    "c_1.loc[len(c_1)]=['Oceania','New Caledonia']\n",
    "c_1.loc[len(c_1)]=['Oceania','Cocos (Keeling) Islands']\n",
    "c_1.loc[len(c_1)]=['South America','Turks and Caicos Islands']\n",
    "c_1.loc[len(c_1)]=['Oceania','Cook Islands']\n",
    "c_1.loc[len(c_1)]=['Europe','Svalbard']\n",
    "c_1.loc[len(c_1)]=['South America','American Samoa']\n",
    "c_1.loc[len(c_1)]=['South America','French Guiana']\n",
    "c_1.loc[len(c_1)]=['Asia','Guam']\n",
    "c_1.loc[len(c_1)]=['Asia','Northern Mariana Islands']\n",
    "c_1.loc[len(c_1)]=['South America','Virgin Islands']\n",
    "c_1.loc[len(c_1)]=['Europe','Netherlands Antilles']\n",
    "c_1.loc[len(c_1)]=['Asia','Hong Kong']\n",
    "c_1.loc[len(c_1)]=['Oceania','Christmas Island']\n",
    "c_1.loc[len(c_1)]=['North America','Bermuda']\n",
    "c_1.loc[len(c_1)]=['Africa','Western Sahara']\n",
    "c_1.loc[len(c_1)]=['North America','Cayman Islands']\n",
    "\n",
    "\n",
    "nodes_df = nodes_df.merge(c_1, on='Country', how=\"left\")\n",
    "nodes_df.sort_values(by=\"Altitude\", ascending=False)\n",
    "nodes_df.shape"
   ]
  },
  {
   "cell_type": "code",
   "execution_count": 264,
   "metadata": {},
   "outputs": [
    {
     "data": {
      "text/plain": [
       "(17, 15)"
      ]
     },
     "execution_count": 264,
     "metadata": {},
     "output_type": "execute_result"
    }
   ],
   "source": [
    "# show airports without continent -> missing -> add manually above\n",
    "nodes_df[nodes_df['Continent'].isnull()].shape"
   ]
  },
  {
   "cell_type": "code",
   "execution_count": 265,
   "metadata": {},
   "outputs": [
    {
     "data": {
      "text/plain": [
       "North America    2151\n",
       "Asia             1618\n",
       "Europe           1476\n",
       "Africa            707\n",
       "South America     690\n",
       "Oceania           542\n",
       "Antarctica         14\n",
       "Name: Continent, dtype: int64"
      ]
     },
     "execution_count": 265,
     "metadata": {},
     "output_type": "execute_result"
    }
   ],
   "source": [
    "nodes_df[\"Continent\"].value_counts()"
   ]
  },
  {
   "cell_type": "code",
   "execution_count": 266,
   "metadata": {},
   "outputs": [
    {
     "data": {
      "text/html": [
       "<div>\n",
       "<style scoped>\n",
       "    .dataframe tbody tr th:only-of-type {\n",
       "        vertical-align: middle;\n",
       "    }\n",
       "\n",
       "    .dataframe tbody tr th {\n",
       "        vertical-align: top;\n",
       "    }\n",
       "\n",
       "    .dataframe thead th {\n",
       "        text-align: right;\n",
       "    }\n",
       "</style>\n",
       "<table border=\"1\" class=\"dataframe\">\n",
       "  <thead>\n",
       "    <tr style=\"text-align: right;\">\n",
       "      <th></th>\n",
       "      <th>Airport_ID</th>\n",
       "      <th>Name</th>\n",
       "      <th>lat</th>\n",
       "      <th>lon</th>\n",
       "      <th>country</th>\n",
       "      <th>continent</th>\n",
       "      <th>IATA</th>\n",
       "      <th>ICAO</th>\n",
       "      <th>Altitude</th>\n",
       "    </tr>\n",
       "  </thead>\n",
       "  <tbody>\n",
       "    <tr>\n",
       "      <th>0</th>\n",
       "      <td>1</td>\n",
       "      <td>Goroka Airport</td>\n",
       "      <td>-6.081690</td>\n",
       "      <td>145.391998</td>\n",
       "      <td>Papua New Guinea</td>\n",
       "      <td>Oceania</td>\n",
       "      <td>GKA</td>\n",
       "      <td>AYGA</td>\n",
       "      <td>5282</td>\n",
       "    </tr>\n",
       "    <tr>\n",
       "      <th>1</th>\n",
       "      <td>2</td>\n",
       "      <td>Madang Airport</td>\n",
       "      <td>-5.207080</td>\n",
       "      <td>145.789001</td>\n",
       "      <td>Papua New Guinea</td>\n",
       "      <td>Oceania</td>\n",
       "      <td>MAG</td>\n",
       "      <td>AYMD</td>\n",
       "      <td>20</td>\n",
       "    </tr>\n",
       "    <tr>\n",
       "      <th>2</th>\n",
       "      <td>3</td>\n",
       "      <td>Mount Hagen Kagamuga Airport</td>\n",
       "      <td>-5.826790</td>\n",
       "      <td>144.296005</td>\n",
       "      <td>Papua New Guinea</td>\n",
       "      <td>Oceania</td>\n",
       "      <td>HGU</td>\n",
       "      <td>AYMH</td>\n",
       "      <td>5388</td>\n",
       "    </tr>\n",
       "    <tr>\n",
       "      <th>3</th>\n",
       "      <td>4</td>\n",
       "      <td>Nadzab Airport</td>\n",
       "      <td>-6.569803</td>\n",
       "      <td>146.725977</td>\n",
       "      <td>Papua New Guinea</td>\n",
       "      <td>Oceania</td>\n",
       "      <td>LAE</td>\n",
       "      <td>AYNZ</td>\n",
       "      <td>239</td>\n",
       "    </tr>\n",
       "    <tr>\n",
       "      <th>4</th>\n",
       "      <td>5</td>\n",
       "      <td>Port Moresby Jacksons International Airport</td>\n",
       "      <td>-9.443380</td>\n",
       "      <td>147.220001</td>\n",
       "      <td>Papua New Guinea</td>\n",
       "      <td>Oceania</td>\n",
       "      <td>POM</td>\n",
       "      <td>AYPY</td>\n",
       "      <td>146</td>\n",
       "    </tr>\n",
       "  </tbody>\n",
       "</table>\n",
       "</div>"
      ],
      "text/plain": [
       "   Airport_ID                                         Name       lat  \\\n",
       "0           1                               Goroka Airport -6.081690   \n",
       "1           2                               Madang Airport -5.207080   \n",
       "2           3                 Mount Hagen Kagamuga Airport -5.826790   \n",
       "3           4                               Nadzab Airport -6.569803   \n",
       "4           5  Port Moresby Jacksons International Airport -9.443380   \n",
       "\n",
       "          lon           country continent IATA  ICAO  Altitude  \n",
       "0  145.391998  Papua New Guinea   Oceania  GKA  AYGA      5282  \n",
       "1  145.789001  Papua New Guinea   Oceania  MAG  AYMD        20  \n",
       "2  144.296005  Papua New Guinea   Oceania  HGU  AYMH      5388  \n",
       "3  146.725977  Papua New Guinea   Oceania  LAE  AYNZ       239  \n",
       "4  147.220001  Papua New Guinea   Oceania  POM  AYPY       146  "
      ]
     },
     "execution_count": 266,
     "metadata": {},
     "output_type": "execute_result"
    }
   ],
   "source": [
    "nodes_df = nodes_df[['Airport_ID', 'Name', 'Latitude', 'Longitude', 'Country', 'Continent', 'IATA', 'ICAO', 'Altitude']]\n",
    "#nodes_df = nodes_df.set_index('Airport_ID')\n",
    "nodes_df.columns = ['Airport_ID', 'Name', 'lat', 'lon', 'country', 'continent', 'IATA', 'ICAO', 'Altitude']\n",
    "nodes_df.head()"
   ]
  },
  {
   "cell_type": "code",
   "execution_count": 267,
   "metadata": {},
   "outputs": [
    {
     "data": {
      "text/plain": [
       "{'Airport_ID': 2,\n",
       " 'Name': 'Madang Airport',\n",
       " 'lat': -5.20707988739,\n",
       " 'lon': 145.789001465,\n",
       " 'country': 'Papua New Guinea',\n",
       " 'continent': 'Oceania',\n",
       " 'IATA': 'MAG',\n",
       " 'ICAO': 'AYMD',\n",
       " 'Altitude': 20}"
      ]
     },
     "execution_count": 267,
     "metadata": {},
     "output_type": "execute_result"
    }
   ],
   "source": [
    "_dict = nodes_df.to_dict(orient='records')\n",
    "_dict[1]"
   ]
  },
  {
   "cell_type": "code",
   "execution_count": null,
   "metadata": {},
   "outputs": [],
   "source": []
  },
  {
   "cell_type": "code",
   "execution_count": 58,
   "metadata": {},
   "outputs": [
    {
     "data": {
      "text/html": [
       "<div>\n",
       "<style scoped>\n",
       "    .dataframe tbody tr th:only-of-type {\n",
       "        vertical-align: middle;\n",
       "    }\n",
       "\n",
       "    .dataframe tbody tr th {\n",
       "        vertical-align: top;\n",
       "    }\n",
       "\n",
       "    .dataframe thead th {\n",
       "        text-align: right;\n",
       "    }\n",
       "</style>\n",
       "<table border=\"1\" class=\"dataframe\">\n",
       "  <thead>\n",
       "    <tr style=\"text-align: right;\">\n",
       "      <th></th>\n",
       "      <th>Airport_ID</th>\n",
       "      <th>Name</th>\n",
       "      <th>lat</th>\n",
       "      <th>lon</th>\n",
       "      <th>country</th>\n",
       "      <th>continent</th>\n",
       "      <th>IATA</th>\n",
       "      <th>ICAO</th>\n",
       "      <th>Altitude</th>\n",
       "      <th>cluster_coefficient</th>\n",
       "      <th>degree</th>\n",
       "    </tr>\n",
       "  </thead>\n",
       "  <tbody>\n",
       "    <tr>\n",
       "      <th>0</th>\n",
       "      <td>1</td>\n",
       "      <td>Goroka Airport</td>\n",
       "      <td>-6.081690</td>\n",
       "      <td>145.391998</td>\n",
       "      <td>Papua New Guinea</td>\n",
       "      <td>Oceania</td>\n",
       "      <td>GKA</td>\n",
       "      <td>AYGA</td>\n",
       "      <td>5282</td>\n",
       "      <td>1.000000</td>\n",
       "      <td>10.0</td>\n",
       "    </tr>\n",
       "    <tr>\n",
       "      <th>1</th>\n",
       "      <td>2</td>\n",
       "      <td>Madang Airport</td>\n",
       "      <td>-5.207080</td>\n",
       "      <td>145.789001</td>\n",
       "      <td>Papua New Guinea</td>\n",
       "      <td>Oceania</td>\n",
       "      <td>MAG</td>\n",
       "      <td>AYMD</td>\n",
       "      <td>20</td>\n",
       "      <td>0.571429</td>\n",
       "      <td>16.0</td>\n",
       "    </tr>\n",
       "    <tr>\n",
       "      <th>2</th>\n",
       "      <td>3</td>\n",
       "      <td>Mount Hagen Kagamuga Airport</td>\n",
       "      <td>-5.826790</td>\n",
       "      <td>144.296005</td>\n",
       "      <td>Papua New Guinea</td>\n",
       "      <td>Oceania</td>\n",
       "      <td>HGU</td>\n",
       "      <td>AYMH</td>\n",
       "      <td>5388</td>\n",
       "      <td>0.388889</td>\n",
       "      <td>22.0</td>\n",
       "    </tr>\n",
       "    <tr>\n",
       "      <th>3</th>\n",
       "      <td>4</td>\n",
       "      <td>Nadzab Airport</td>\n",
       "      <td>-6.569803</td>\n",
       "      <td>146.725977</td>\n",
       "      <td>Papua New Guinea</td>\n",
       "      <td>Oceania</td>\n",
       "      <td>LAE</td>\n",
       "      <td>AYNZ</td>\n",
       "      <td>239</td>\n",
       "      <td>0.388889</td>\n",
       "      <td>22.0</td>\n",
       "    </tr>\n",
       "    <tr>\n",
       "      <th>4</th>\n",
       "      <td>5</td>\n",
       "      <td>Port Moresby Jacksons International Airport</td>\n",
       "      <td>-9.443380</td>\n",
       "      <td>147.220001</td>\n",
       "      <td>Papua New Guinea</td>\n",
       "      <td>Oceania</td>\n",
       "      <td>POM</td>\n",
       "      <td>AYPY</td>\n",
       "      <td>146</td>\n",
       "      <td>0.125000</td>\n",
       "      <td>95.0</td>\n",
       "    </tr>\n",
       "  </tbody>\n",
       "</table>\n",
       "</div>"
      ],
      "text/plain": [
       "   Airport_ID                                         Name       lat  \\\n",
       "0           1                               Goroka Airport -6.081690   \n",
       "1           2                               Madang Airport -5.207080   \n",
       "2           3                 Mount Hagen Kagamuga Airport -5.826790   \n",
       "3           4                               Nadzab Airport -6.569803   \n",
       "4           5  Port Moresby Jacksons International Airport -9.443380   \n",
       "\n",
       "          lon           country continent IATA  ICAO  Altitude  \\\n",
       "0  145.391998  Papua New Guinea   Oceania  GKA  AYGA      5282   \n",
       "1  145.789001  Papua New Guinea   Oceania  MAG  AYMD        20   \n",
       "2  144.296005  Papua New Guinea   Oceania  HGU  AYMH      5388   \n",
       "3  146.725977  Papua New Guinea   Oceania  LAE  AYNZ       239   \n",
       "4  147.220001  Papua New Guinea   Oceania  POM  AYPY       146   \n",
       "\n",
       "   cluster_coefficient  degree  \n",
       "0             1.000000    10.0  \n",
       "1             0.571429    16.0  \n",
       "2             0.388889    22.0  \n",
       "3             0.388889    22.0  \n",
       "4             0.125000    95.0  "
      ]
     },
     "execution_count": 58,
     "metadata": {},
     "output_type": "execute_result"
    }
   ],
   "source": [
    "nodes_cluster_degree = pd.read_csv('../data/airports_cluster_degree.csv', index_col=0)\n",
    "merge = nodes_df.merge(nodes_cluster_degree, on=\"Airport_ID\")\n",
    "merge.head()"
   ]
  },
  {
   "cell_type": "code",
   "execution_count": 59,
   "metadata": {},
   "outputs": [],
   "source": [
    "merge.to_csv('../data/airports.csv')"
   ]
  },
  {
   "cell_type": "code",
   "execution_count": 60,
   "metadata": {},
   "outputs": [
    {
     "data": {
      "text/html": [
       "<div>\n",
       "<style scoped>\n",
       "    .dataframe tbody tr th:only-of-type {\n",
       "        vertical-align: middle;\n",
       "    }\n",
       "\n",
       "    .dataframe tbody tr th {\n",
       "        vertical-align: top;\n",
       "    }\n",
       "\n",
       "    .dataframe thead th {\n",
       "        text-align: right;\n",
       "    }\n",
       "</style>\n",
       "<table border=\"1\" class=\"dataframe\">\n",
       "  <thead>\n",
       "    <tr style=\"text-align: right;\">\n",
       "      <th></th>\n",
       "      <th>Airport_ID</th>\n",
       "      <th>Name</th>\n",
       "      <th>lat</th>\n",
       "      <th>lon</th>\n",
       "      <th>country</th>\n",
       "      <th>continent</th>\n",
       "      <th>IATA</th>\n",
       "      <th>ICAO</th>\n",
       "      <th>Altitude</th>\n",
       "      <th>cluster_coefficient</th>\n",
       "      <th>degree</th>\n",
       "    </tr>\n",
       "  </thead>\n",
       "  <tbody>\n",
       "    <tr>\n",
       "      <th>3489</th>\n",
       "      <td>3682</td>\n",
       "      <td>Hartsfield Jackson Atlanta International Airport</td>\n",
       "      <td>33.636700</td>\n",
       "      <td>-84.428101</td>\n",
       "      <td>United States</td>\n",
       "      <td>North America</td>\n",
       "      <td>ATL</td>\n",
       "      <td>KATL</td>\n",
       "      <td>1026</td>\n",
       "      <td>0.113714</td>\n",
       "      <td>1826.0</td>\n",
       "    </tr>\n",
       "    <tr>\n",
       "      <th>3633</th>\n",
       "      <td>3830</td>\n",
       "      <td>Chicago O'Hare International Airport</td>\n",
       "      <td>41.978600</td>\n",
       "      <td>-87.904800</td>\n",
       "      <td>United States</td>\n",
       "      <td>North America</td>\n",
       "      <td>ORD</td>\n",
       "      <td>KORD</td>\n",
       "      <td>672</td>\n",
       "      <td>0.126195</td>\n",
       "      <td>1103.0</td>\n",
       "    </tr>\n",
       "    <tr>\n",
       "      <th>502</th>\n",
       "      <td>507</td>\n",
       "      <td>London Heathrow Airport</td>\n",
       "      <td>51.470600</td>\n",
       "      <td>-0.461941</td>\n",
       "      <td>United Kingdom</td>\n",
       "      <td>Europe</td>\n",
       "      <td>LHR</td>\n",
       "      <td>EGLL</td>\n",
       "      <td>83</td>\n",
       "      <td>0.214340</td>\n",
       "      <td>1043.0</td>\n",
       "    </tr>\n",
       "    <tr>\n",
       "      <th>3180</th>\n",
       "      <td>3364</td>\n",
       "      <td>Beijing Capital International Airport</td>\n",
       "      <td>40.080101</td>\n",
       "      <td>116.584999</td>\n",
       "      <td>China</td>\n",
       "      <td>Asia</td>\n",
       "      <td>PEK</td>\n",
       "      <td>ZBAA</td>\n",
       "      <td>116</td>\n",
       "      <td>0.129856</td>\n",
       "      <td>1039.0</td>\n",
       "    </tr>\n",
       "    <tr>\n",
       "      <th>1346</th>\n",
       "      <td>1382</td>\n",
       "      <td>Charles de Gaulle International Airport</td>\n",
       "      <td>49.012798</td>\n",
       "      <td>2.550000</td>\n",
       "      <td>France</td>\n",
       "      <td>Europe</td>\n",
       "      <td>CDG</td>\n",
       "      <td>LFPG</td>\n",
       "      <td>392</td>\n",
       "      <td>0.144275</td>\n",
       "      <td>1038.0</td>\n",
       "    </tr>\n",
       "    <tr>\n",
       "      <th>3294</th>\n",
       "      <td>3484</td>\n",
       "      <td>Los Angeles International Airport</td>\n",
       "      <td>33.942501</td>\n",
       "      <td>-118.407997</td>\n",
       "      <td>United States</td>\n",
       "      <td>North America</td>\n",
       "      <td>LAX</td>\n",
       "      <td>KLAX</td>\n",
       "      <td>125</td>\n",
       "      <td>0.184501</td>\n",
       "      <td>986.0</td>\n",
       "    </tr>\n",
       "    <tr>\n",
       "      <th>336</th>\n",
       "      <td>340</td>\n",
       "      <td>Frankfurt am Main International Airport</td>\n",
       "      <td>50.033333</td>\n",
       "      <td>8.570556</td>\n",
       "      <td>Germany</td>\n",
       "      <td>Europe</td>\n",
       "      <td>FRA</td>\n",
       "      <td>EDDF</td>\n",
       "      <td>364</td>\n",
       "      <td>0.146291</td>\n",
       "      <td>974.0</td>\n",
       "    </tr>\n",
       "    <tr>\n",
       "      <th>3477</th>\n",
       "      <td>3670</td>\n",
       "      <td>Dallas Fort Worth International Airport</td>\n",
       "      <td>32.896801</td>\n",
       "      <td>-97.038002</td>\n",
       "      <td>United States</td>\n",
       "      <td>North America</td>\n",
       "      <td>DFW</td>\n",
       "      <td>KDFW</td>\n",
       "      <td>607</td>\n",
       "      <td>0.126962</td>\n",
       "      <td>934.0</td>\n",
       "    </tr>\n",
       "    <tr>\n",
       "      <th>3601</th>\n",
       "      <td>3797</td>\n",
       "      <td>John F Kennedy International Airport</td>\n",
       "      <td>40.639801</td>\n",
       "      <td>-73.778900</td>\n",
       "      <td>United States</td>\n",
       "      <td>North America</td>\n",
       "      <td>JFK</td>\n",
       "      <td>KJFK</td>\n",
       "      <td>13</td>\n",
       "      <td>0.196040</td>\n",
       "      <td>907.0</td>\n",
       "    </tr>\n",
       "    <tr>\n",
       "      <th>574</th>\n",
       "      <td>580</td>\n",
       "      <td>Amsterdam Airport Schiphol</td>\n",
       "      <td>52.308601</td>\n",
       "      <td>4.763890</td>\n",
       "      <td>Netherlands</td>\n",
       "      <td>Europe</td>\n",
       "      <td>AMS</td>\n",
       "      <td>EHAM</td>\n",
       "      <td>-11</td>\n",
       "      <td>0.147901</td>\n",
       "      <td>896.0</td>\n",
       "    </tr>\n",
       "    <tr>\n",
       "      <th>3134</th>\n",
       "      <td>3316</td>\n",
       "      <td>Singapore Changi Airport</td>\n",
       "      <td>1.350190</td>\n",
       "      <td>103.994003</td>\n",
       "      <td>Singapore</td>\n",
       "      <td>Asia</td>\n",
       "      <td>SIN</td>\n",
       "      <td>WSSS</td>\n",
       "      <td>22</td>\n",
       "      <td>0.171798</td>\n",
       "      <td>812.0</td>\n",
       "    </tr>\n",
       "    <tr>\n",
       "      <th>3217</th>\n",
       "      <td>3406</td>\n",
       "      <td>Shanghai Pudong International Airport</td>\n",
       "      <td>31.143400</td>\n",
       "      <td>121.805000</td>\n",
       "      <td>China</td>\n",
       "      <td>Asia</td>\n",
       "      <td>PVG</td>\n",
       "      <td>ZSPD</td>\n",
       "      <td>13</td>\n",
       "      <td>0.163250</td>\n",
       "      <td>811.0</td>\n",
       "    </tr>\n",
       "    <tr>\n",
       "      <th>1186</th>\n",
       "      <td>1218</td>\n",
       "      <td>Barcelona International Airport</td>\n",
       "      <td>41.297100</td>\n",
       "      <td>2.078460</td>\n",
       "      <td>Spain</td>\n",
       "      <td>Europe</td>\n",
       "      <td>BCN</td>\n",
       "      <td>LEBL</td>\n",
       "      <td>12</td>\n",
       "      <td>0.234338</td>\n",
       "      <td>778.0</td>\n",
       "    </tr>\n",
       "    <tr>\n",
       "      <th>3383</th>\n",
       "      <td>3576</td>\n",
       "      <td>Miami International Airport</td>\n",
       "      <td>25.793200</td>\n",
       "      <td>-80.290604</td>\n",
       "      <td>United States</td>\n",
       "      <td>North America</td>\n",
       "      <td>MIA</td>\n",
       "      <td>KMIA</td>\n",
       "      <td>8</td>\n",
       "      <td>0.179414</td>\n",
       "      <td>734.0</td>\n",
       "    </tr>\n",
       "    <tr>\n",
       "      <th>3727</th>\n",
       "      <td>3930</td>\n",
       "      <td>Incheon International Airport</td>\n",
       "      <td>37.469101</td>\n",
       "      <td>126.450996</td>\n",
       "      <td>South Korea</td>\n",
       "      <td>Asia</td>\n",
       "      <td>ICN</td>\n",
       "      <td>RKSI</td>\n",
       "      <td>23</td>\n",
       "      <td>0.190135</td>\n",
       "      <td>732.0</td>\n",
       "    </tr>\n",
       "    <tr>\n",
       "      <th>3555</th>\n",
       "      <td>3751</td>\n",
       "      <td>Denver International Airport</td>\n",
       "      <td>39.861698</td>\n",
       "      <td>-104.672997</td>\n",
       "      <td>United States</td>\n",
       "      <td>North America</td>\n",
       "      <td>DEN</td>\n",
       "      <td>KDEN</td>\n",
       "      <td>5431</td>\n",
       "      <td>0.130881</td>\n",
       "      <td>731.0</td>\n",
       "    </tr>\n",
       "    <tr>\n",
       "      <th>342</th>\n",
       "      <td>346</td>\n",
       "      <td>Munich International Airport</td>\n",
       "      <td>48.353802</td>\n",
       "      <td>11.786100</td>\n",
       "      <td>Germany</td>\n",
       "      <td>Europe</td>\n",
       "      <td>MUC</td>\n",
       "      <td>EDDM</td>\n",
       "      <td>1487</td>\n",
       "      <td>0.199610</td>\n",
       "      <td>718.0</td>\n",
       "    </tr>\n",
       "    <tr>\n",
       "      <th>1655</th>\n",
       "      <td>1701</td>\n",
       "      <td>Atatürk International Airport</td>\n",
       "      <td>40.976898</td>\n",
       "      <td>28.814600</td>\n",
       "      <td>Turkey</td>\n",
       "      <td>Asia</td>\n",
       "      <td>IST</td>\n",
       "      <td>LTBA</td>\n",
       "      <td>163</td>\n",
       "      <td>0.116119</td>\n",
       "      <td>703.0</td>\n",
       "    </tr>\n",
       "    <tr>\n",
       "      <th>2934</th>\n",
       "      <td>3077</td>\n",
       "      <td>Chek Lap Kok International Airport</td>\n",
       "      <td>22.308901</td>\n",
       "      <td>113.915001</td>\n",
       "      <td>Hong Kong</td>\n",
       "      <td>Asia</td>\n",
       "      <td>HKG</td>\n",
       "      <td>VHHH</td>\n",
       "      <td>28</td>\n",
       "      <td>0.210217</td>\n",
       "      <td>702.0</td>\n",
       "    </tr>\n",
       "    <tr>\n",
       "      <th>497</th>\n",
       "      <td>502</td>\n",
       "      <td>London Gatwick Airport</td>\n",
       "      <td>51.148102</td>\n",
       "      <td>-0.190278</td>\n",
       "      <td>United Kingdom</td>\n",
       "      <td>Europe</td>\n",
       "      <td>LGW</td>\n",
       "      <td>EGKK</td>\n",
       "      <td>202</td>\n",
       "      <td>0.169235</td>\n",
       "      <td>700.0</td>\n",
       "    </tr>\n",
       "    <tr>\n",
       "      <th>2102</th>\n",
       "      <td>2188</td>\n",
       "      <td>Dubai International Airport</td>\n",
       "      <td>25.252800</td>\n",
       "      <td>55.364399</td>\n",
       "      <td>United Arab Emirates</td>\n",
       "      <td>Asia</td>\n",
       "      <td>DXB</td>\n",
       "      <td>OMDB</td>\n",
       "      <td>62</td>\n",
       "      <td>0.136850</td>\n",
       "      <td>689.0</td>\n",
       "    </tr>\n",
       "    <tr>\n",
       "      <th>1514</th>\n",
       "      <td>1555</td>\n",
       "      <td>Leonardo da Vinci–Fiumicino Airport</td>\n",
       "      <td>41.800278</td>\n",
       "      <td>12.238889</td>\n",
       "      <td>Italy</td>\n",
       "      <td>Europe</td>\n",
       "      <td>FCO</td>\n",
       "      <td>LIRF</td>\n",
       "      <td>13</td>\n",
       "      <td>0.242296</td>\n",
       "      <td>658.0</td>\n",
       "    </tr>\n",
       "    <tr>\n",
       "      <th>1196</th>\n",
       "      <td>1229</td>\n",
       "      <td>Adolfo Suárez Madrid–Barajas Airport</td>\n",
       "      <td>40.471926</td>\n",
       "      <td>-3.562640</td>\n",
       "      <td>Spain</td>\n",
       "      <td>Europe</td>\n",
       "      <td>MAD</td>\n",
       "      <td>LEMD</td>\n",
       "      <td>1998</td>\n",
       "      <td>0.218979</td>\n",
       "      <td>655.0</td>\n",
       "    </tr>\n",
       "    <tr>\n",
       "      <th>3687</th>\n",
       "      <td>3885</td>\n",
       "      <td>Suvarnabhumi Airport</td>\n",
       "      <td>13.681100</td>\n",
       "      <td>100.747002</td>\n",
       "      <td>Thailand</td>\n",
       "      <td>Asia</td>\n",
       "      <td>BKK</td>\n",
       "      <td>VTBS</td>\n",
       "      <td>5</td>\n",
       "      <td>0.194678</td>\n",
       "      <td>652.0</td>\n",
       "    </tr>\n",
       "    <tr>\n",
       "      <th>3184</th>\n",
       "      <td>3370</td>\n",
       "      <td>Guangzhou Baiyun International Airport</td>\n",
       "      <td>23.392401</td>\n",
       "      <td>113.299004</td>\n",
       "      <td>China</td>\n",
       "      <td>Asia</td>\n",
       "      <td>CAN</td>\n",
       "      <td>ZGGG</td>\n",
       "      <td>50</td>\n",
       "      <td>0.170504</td>\n",
       "      <td>651.0</td>\n",
       "    </tr>\n",
       "    <tr>\n",
       "      <th>3816</th>\n",
       "      <td>4029</td>\n",
       "      <td>Domodedovo International Airport</td>\n",
       "      <td>55.408798</td>\n",
       "      <td>37.906300</td>\n",
       "      <td>Russia</td>\n",
       "      <td>Asia</td>\n",
       "      <td>DME</td>\n",
       "      <td>UUDD</td>\n",
       "      <td>588</td>\n",
       "      <td>0.074746</td>\n",
       "      <td>640.0</td>\n",
       "    </tr>\n",
       "    <tr>\n",
       "      <th>191</th>\n",
       "      <td>193</td>\n",
       "      <td>Lester B. Pearson International Airport</td>\n",
       "      <td>43.677200</td>\n",
       "      <td>-79.630600</td>\n",
       "      <td>Canada</td>\n",
       "      <td>North America</td>\n",
       "      <td>YYZ</td>\n",
       "      <td>CYYZ</td>\n",
       "      <td>569</td>\n",
       "      <td>0.192060</td>\n",
       "      <td>636.0</td>\n",
       "    </tr>\n",
       "    <tr>\n",
       "      <th>299</th>\n",
       "      <td>302</td>\n",
       "      <td>Brussels Airport</td>\n",
       "      <td>50.901402</td>\n",
       "      <td>4.484440</td>\n",
       "      <td>Belgium</td>\n",
       "      <td>Europe</td>\n",
       "      <td>BRU</td>\n",
       "      <td>EBBR</td>\n",
       "      <td>184</td>\n",
       "      <td>0.228698</td>\n",
       "      <td>627.0</td>\n",
       "    </tr>\n",
       "    <tr>\n",
       "      <th>3209</th>\n",
       "      <td>3395</td>\n",
       "      <td>Chengdu Shuangliu International Airport</td>\n",
       "      <td>30.578501</td>\n",
       "      <td>103.946999</td>\n",
       "      <td>China</td>\n",
       "      <td>Asia</td>\n",
       "      <td>CTU</td>\n",
       "      <td>ZUUU</td>\n",
       "      <td>1625</td>\n",
       "      <td>0.247129</td>\n",
       "      <td>623.0</td>\n",
       "    </tr>\n",
       "    <tr>\n",
       "      <th>473</th>\n",
       "      <td>478</td>\n",
       "      <td>Manchester Airport</td>\n",
       "      <td>53.353699</td>\n",
       "      <td>-2.274950</td>\n",
       "      <td>United Kingdom</td>\n",
       "      <td>Europe</td>\n",
       "      <td>MAN</td>\n",
       "      <td>EGCC</td>\n",
       "      <td>257</td>\n",
       "      <td>0.206991</td>\n",
       "      <td>615.0</td>\n",
       "    </tr>\n",
       "    <tr>\n",
       "      <th>...</th>\n",
       "      <td>...</td>\n",
       "      <td>...</td>\n",
       "      <td>...</td>\n",
       "      <td>...</td>\n",
       "      <td>...</td>\n",
       "      <td>...</td>\n",
       "      <td>...</td>\n",
       "      <td>...</td>\n",
       "      <td>...</td>\n",
       "      <td>...</td>\n",
       "      <td>...</td>\n",
       "    </tr>\n",
       "    <tr>\n",
       "      <th>7185</th>\n",
       "      <td>12028</td>\n",
       "      <td>Kerang Airport</td>\n",
       "      <td>-35.751400</td>\n",
       "      <td>143.938995</td>\n",
       "      <td>Australia</td>\n",
       "      <td>Oceania</td>\n",
       "      <td>KRA</td>\n",
       "      <td>YKER</td>\n",
       "      <td>254</td>\n",
       "      <td>NaN</td>\n",
       "      <td>NaN</td>\n",
       "    </tr>\n",
       "    <tr>\n",
       "      <th>7186</th>\n",
       "      <td>12029</td>\n",
       "      <td>Kempsey Airport</td>\n",
       "      <td>-31.074400</td>\n",
       "      <td>152.770004</td>\n",
       "      <td>Australia</td>\n",
       "      <td>Oceania</td>\n",
       "      <td>KPS</td>\n",
       "      <td>YKMP</td>\n",
       "      <td>54</td>\n",
       "      <td>NaN</td>\n",
       "      <td>NaN</td>\n",
       "    </tr>\n",
       "    <tr>\n",
       "      <th>7187</th>\n",
       "      <td>12030</td>\n",
       "      <td>Kingaroy Airport</td>\n",
       "      <td>-26.580799</td>\n",
       "      <td>151.841003</td>\n",
       "      <td>Australia</td>\n",
       "      <td>Oceania</td>\n",
       "      <td>KGY</td>\n",
       "      <td>YKRY</td>\n",
       "      <td>1492</td>\n",
       "      <td>NaN</td>\n",
       "      <td>NaN</td>\n",
       "    </tr>\n",
       "    <tr>\n",
       "      <th>7188</th>\n",
       "      <td>12031</td>\n",
       "      <td>Latrobe Valley Airport</td>\n",
       "      <td>-38.207199</td>\n",
       "      <td>146.470001</td>\n",
       "      <td>Australia</td>\n",
       "      <td>Oceania</td>\n",
       "      <td>TGN</td>\n",
       "      <td>YLTV</td>\n",
       "      <td>180</td>\n",
       "      <td>NaN</td>\n",
       "      <td>NaN</td>\n",
       "    </tr>\n",
       "    <tr>\n",
       "      <th>7189</th>\n",
       "      <td>12032</td>\n",
       "      <td>Mareeba Airport</td>\n",
       "      <td>-17.069201</td>\n",
       "      <td>145.419006</td>\n",
       "      <td>Australia</td>\n",
       "      <td>Oceania</td>\n",
       "      <td>MRG</td>\n",
       "      <td>YMBA</td>\n",
       "      <td>1560</td>\n",
       "      <td>NaN</td>\n",
       "      <td>NaN</td>\n",
       "    </tr>\n",
       "    <tr>\n",
       "      <th>7190</th>\n",
       "      <td>12033</td>\n",
       "      <td>Ngukurr Airport</td>\n",
       "      <td>-14.722800</td>\n",
       "      <td>134.746994</td>\n",
       "      <td>Australia</td>\n",
       "      <td>Oceania</td>\n",
       "      <td>RPM</td>\n",
       "      <td>YNGU</td>\n",
       "      <td>45</td>\n",
       "      <td>NaN</td>\n",
       "      <td>NaN</td>\n",
       "    </tr>\n",
       "    <tr>\n",
       "      <th>7191</th>\n",
       "      <td>12034</td>\n",
       "      <td>Narromine Airport</td>\n",
       "      <td>-32.214699</td>\n",
       "      <td>148.225006</td>\n",
       "      <td>Australia</td>\n",
       "      <td>Oceania</td>\n",
       "      <td>QRM</td>\n",
       "      <td>YNRM</td>\n",
       "      <td>782</td>\n",
       "      <td>NaN</td>\n",
       "      <td>NaN</td>\n",
       "    </tr>\n",
       "    <tr>\n",
       "      <th>7192</th>\n",
       "      <td>12035</td>\n",
       "      <td>Port Pirie Airport</td>\n",
       "      <td>-33.238899</td>\n",
       "      <td>137.994995</td>\n",
       "      <td>Australia</td>\n",
       "      <td>Oceania</td>\n",
       "      <td>PPI</td>\n",
       "      <td>YPIR</td>\n",
       "      <td>40</td>\n",
       "      <td>NaN</td>\n",
       "      <td>NaN</td>\n",
       "    </tr>\n",
       "    <tr>\n",
       "      <th>7193</th>\n",
       "      <td>12036</td>\n",
       "      <td>Smithton Airport</td>\n",
       "      <td>-40.834999</td>\n",
       "      <td>145.084000</td>\n",
       "      <td>Australia</td>\n",
       "      <td>Oceania</td>\n",
       "      <td>SIO</td>\n",
       "      <td>YSMI</td>\n",
       "      <td>31</td>\n",
       "      <td>NaN</td>\n",
       "      <td>NaN</td>\n",
       "    </tr>\n",
       "    <tr>\n",
       "      <th>7194</th>\n",
       "      <td>12037</td>\n",
       "      <td>Snake Bay Airport</td>\n",
       "      <td>-11.422800</td>\n",
       "      <td>130.654007</td>\n",
       "      <td>Australia</td>\n",
       "      <td>Oceania</td>\n",
       "      <td>SNB</td>\n",
       "      <td>YSNB</td>\n",
       "      <td>173</td>\n",
       "      <td>NaN</td>\n",
       "      <td>NaN</td>\n",
       "    </tr>\n",
       "    <tr>\n",
       "      <th>7195</th>\n",
       "      <td>12038</td>\n",
       "      <td>Stawell Airport</td>\n",
       "      <td>-37.071701</td>\n",
       "      <td>142.740997</td>\n",
       "      <td>Australia</td>\n",
       "      <td>Oceania</td>\n",
       "      <td>SWC</td>\n",
       "      <td>YSWL</td>\n",
       "      <td>807</td>\n",
       "      <td>NaN</td>\n",
       "      <td>NaN</td>\n",
       "    </tr>\n",
       "    <tr>\n",
       "      <th>7196</th>\n",
       "      <td>12039</td>\n",
       "      <td>Tibooburra Airport</td>\n",
       "      <td>-29.451099</td>\n",
       "      <td>142.057999</td>\n",
       "      <td>Australia</td>\n",
       "      <td>Oceania</td>\n",
       "      <td>TYB</td>\n",
       "      <td>YTIB</td>\n",
       "      <td>584</td>\n",
       "      <td>NaN</td>\n",
       "      <td>NaN</td>\n",
       "    </tr>\n",
       "    <tr>\n",
       "      <th>7197</th>\n",
       "      <td>12040</td>\n",
       "      <td>Tumut Airport</td>\n",
       "      <td>-35.262798</td>\n",
       "      <td>148.240997</td>\n",
       "      <td>Australia</td>\n",
       "      <td>Oceania</td>\n",
       "      <td>TUM</td>\n",
       "      <td>YTMU</td>\n",
       "      <td>878</td>\n",
       "      <td>NaN</td>\n",
       "      <td>NaN</td>\n",
       "    </tr>\n",
       "    <tr>\n",
       "      <th>7198</th>\n",
       "      <td>12041</td>\n",
       "      <td>Wangaratta Airport</td>\n",
       "      <td>-36.415798</td>\n",
       "      <td>146.307007</td>\n",
       "      <td>Australia</td>\n",
       "      <td>Oceania</td>\n",
       "      <td>WGT</td>\n",
       "      <td>YWGT</td>\n",
       "      <td>504</td>\n",
       "      <td>NaN</td>\n",
       "      <td>NaN</td>\n",
       "    </tr>\n",
       "    <tr>\n",
       "      <th>7199</th>\n",
       "      <td>12042</td>\n",
       "      <td>Warracknabeal Airport</td>\n",
       "      <td>-36.321098</td>\n",
       "      <td>142.419006</td>\n",
       "      <td>Australia</td>\n",
       "      <td>Oceania</td>\n",
       "      <td>WKB</td>\n",
       "      <td>YWKB</td>\n",
       "      <td>397</td>\n",
       "      <td>NaN</td>\n",
       "      <td>NaN</td>\n",
       "    </tr>\n",
       "    <tr>\n",
       "      <th>7200</th>\n",
       "      <td>12043</td>\n",
       "      <td>Warren Airport</td>\n",
       "      <td>-31.733299</td>\n",
       "      <td>147.802994</td>\n",
       "      <td>Australia</td>\n",
       "      <td>Oceania</td>\n",
       "      <td>QRR</td>\n",
       "      <td>YWRN</td>\n",
       "      <td>669</td>\n",
       "      <td>NaN</td>\n",
       "      <td>NaN</td>\n",
       "    </tr>\n",
       "    <tr>\n",
       "      <th>7201</th>\n",
       "      <td>12044</td>\n",
       "      <td>West Sale Airport</td>\n",
       "      <td>-38.090827</td>\n",
       "      <td>146.965335</td>\n",
       "      <td>Australia</td>\n",
       "      <td>Oceania</td>\n",
       "      <td>SXE</td>\n",
       "      <td>YWSL</td>\n",
       "      <td>72</td>\n",
       "      <td>NaN</td>\n",
       "      <td>NaN</td>\n",
       "    </tr>\n",
       "    <tr>\n",
       "      <th>7202</th>\n",
       "      <td>12045</td>\n",
       "      <td>West Wyalong Airport</td>\n",
       "      <td>-33.937199</td>\n",
       "      <td>147.190994</td>\n",
       "      <td>Australia</td>\n",
       "      <td>Oceania</td>\n",
       "      <td>WWY</td>\n",
       "      <td>YWWL</td>\n",
       "      <td>859</td>\n",
       "      <td>NaN</td>\n",
       "      <td>NaN</td>\n",
       "    </tr>\n",
       "    <tr>\n",
       "      <th>7203</th>\n",
       "      <td>12046</td>\n",
       "      <td>Young Airport</td>\n",
       "      <td>-34.255600</td>\n",
       "      <td>148.248001</td>\n",
       "      <td>Australia</td>\n",
       "      <td>Oceania</td>\n",
       "      <td>NGA</td>\n",
       "      <td>YYNG</td>\n",
       "      <td>1267</td>\n",
       "      <td>NaN</td>\n",
       "      <td>NaN</td>\n",
       "    </tr>\n",
       "    <tr>\n",
       "      <th>7204</th>\n",
       "      <td>12047</td>\n",
       "      <td>Guangzhou MR Air Base</td>\n",
       "      <td>32.389400</td>\n",
       "      <td>111.695000</td>\n",
       "      <td>China</td>\n",
       "      <td>Asia</td>\n",
       "      <td>LHK</td>\n",
       "      <td>ZHGH</td>\n",
       "      <td>0</td>\n",
       "      <td>NaN</td>\n",
       "      <td>NaN</td>\n",
       "    </tr>\n",
       "    <tr>\n",
       "      <th>7205</th>\n",
       "      <td>12048</td>\n",
       "      <td>Shiyan Wudangshan Airport</td>\n",
       "      <td>32.591667</td>\n",
       "      <td>110.907778</td>\n",
       "      <td>China</td>\n",
       "      <td>Asia</td>\n",
       "      <td>WDS</td>\n",
       "      <td>ZHSY</td>\n",
       "      <td>0</td>\n",
       "      <td>NaN</td>\n",
       "      <td>NaN</td>\n",
       "    </tr>\n",
       "    <tr>\n",
       "      <th>7206</th>\n",
       "      <td>12049</td>\n",
       "      <td>Sunchon Air Base</td>\n",
       "      <td>39.415699</td>\n",
       "      <td>125.894997</td>\n",
       "      <td>North Korea</td>\n",
       "      <td>Asia</td>\n",
       "      <td>\\N</td>\n",
       "      <td>ZKSC</td>\n",
       "      <td>141</td>\n",
       "      <td>NaN</td>\n",
       "      <td>NaN</td>\n",
       "    </tr>\n",
       "    <tr>\n",
       "      <th>7207</th>\n",
       "      <td>12050</td>\n",
       "      <td>Huatugou Airport</td>\n",
       "      <td>38.201984</td>\n",
       "      <td>90.841495</td>\n",
       "      <td>China</td>\n",
       "      <td>Asia</td>\n",
       "      <td>HTT</td>\n",
       "      <td>ZLHX</td>\n",
       "      <td>2945</td>\n",
       "      <td>NaN</td>\n",
       "      <td>NaN</td>\n",
       "    </tr>\n",
       "    <tr>\n",
       "      <th>7208</th>\n",
       "      <td>12051</td>\n",
       "      <td>Baruun Urt Airport</td>\n",
       "      <td>46.660301</td>\n",
       "      <td>113.285004</td>\n",
       "      <td>Mongolia</td>\n",
       "      <td>Asia</td>\n",
       "      <td>UUN</td>\n",
       "      <td>ZMBU</td>\n",
       "      <td>3205</td>\n",
       "      <td>NaN</td>\n",
       "      <td>NaN</td>\n",
       "    </tr>\n",
       "    <tr>\n",
       "      <th>7209</th>\n",
       "      <td>12052</td>\n",
       "      <td>Bengbu Airport</td>\n",
       "      <td>32.847733</td>\n",
       "      <td>117.320244</td>\n",
       "      <td>China</td>\n",
       "      <td>Asia</td>\n",
       "      <td>BFU</td>\n",
       "      <td>ZSBB</td>\n",
       "      <td>100</td>\n",
       "      <td>NaN</td>\n",
       "      <td>NaN</td>\n",
       "    </tr>\n",
       "    <tr>\n",
       "      <th>7210</th>\n",
       "      <td>12053</td>\n",
       "      <td>Rugao Air Base</td>\n",
       "      <td>32.257885</td>\n",
       "      <td>120.501656</td>\n",
       "      <td>China</td>\n",
       "      <td>Asia</td>\n",
       "      <td>RUG</td>\n",
       "      <td>ZSRG</td>\n",
       "      <td>0</td>\n",
       "      <td>NaN</td>\n",
       "      <td>NaN</td>\n",
       "    </tr>\n",
       "    <tr>\n",
       "      <th>7211</th>\n",
       "      <td>12054</td>\n",
       "      <td>Wuhu Air Base</td>\n",
       "      <td>31.390600</td>\n",
       "      <td>118.408997</td>\n",
       "      <td>China</td>\n",
       "      <td>Asia</td>\n",
       "      <td>WHU</td>\n",
       "      <td>ZSWU</td>\n",
       "      <td>0</td>\n",
       "      <td>NaN</td>\n",
       "      <td>NaN</td>\n",
       "    </tr>\n",
       "    <tr>\n",
       "      <th>7212</th>\n",
       "      <td>12055</td>\n",
       "      <td>Shanshan Airport</td>\n",
       "      <td>42.911701</td>\n",
       "      <td>90.247498</td>\n",
       "      <td>China</td>\n",
       "      <td>Asia</td>\n",
       "      <td>SXJ</td>\n",
       "      <td>ZWSS</td>\n",
       "      <td>0</td>\n",
       "      <td>NaN</td>\n",
       "      <td>NaN</td>\n",
       "    </tr>\n",
       "    <tr>\n",
       "      <th>7213</th>\n",
       "      <td>12056</td>\n",
       "      <td>Yingkou Lanqi Airport</td>\n",
       "      <td>40.542524</td>\n",
       "      <td>122.358600</td>\n",
       "      <td>China</td>\n",
       "      <td>Asia</td>\n",
       "      <td>YKH</td>\n",
       "      <td>ZYYK</td>\n",
       "      <td>0</td>\n",
       "      <td>NaN</td>\n",
       "      <td>NaN</td>\n",
       "    </tr>\n",
       "    <tr>\n",
       "      <th>7214</th>\n",
       "      <td>12057</td>\n",
       "      <td>Shenyang Dongta Airport</td>\n",
       "      <td>41.784401</td>\n",
       "      <td>123.496002</td>\n",
       "      <td>China</td>\n",
       "      <td>Asia</td>\n",
       "      <td>\\N</td>\n",
       "      <td>ZYYY</td>\n",
       "      <td>0</td>\n",
       "      <td>NaN</td>\n",
       "      <td>NaN</td>\n",
       "    </tr>\n",
       "  </tbody>\n",
       "</table>\n",
       "<p>7215 rows × 11 columns</p>\n",
       "</div>"
      ],
      "text/plain": [
       "      Airport_ID                                              Name        lat  \\\n",
       "3489        3682  Hartsfield Jackson Atlanta International Airport  33.636700   \n",
       "3633        3830              Chicago O'Hare International Airport  41.978600   \n",
       "502          507                           London Heathrow Airport  51.470600   \n",
       "3180        3364             Beijing Capital International Airport  40.080101   \n",
       "1346        1382           Charles de Gaulle International Airport  49.012798   \n",
       "3294        3484                 Los Angeles International Airport  33.942501   \n",
       "336          340           Frankfurt am Main International Airport  50.033333   \n",
       "3477        3670           Dallas Fort Worth International Airport  32.896801   \n",
       "3601        3797              John F Kennedy International Airport  40.639801   \n",
       "574          580                        Amsterdam Airport Schiphol  52.308601   \n",
       "3134        3316                          Singapore Changi Airport   1.350190   \n",
       "3217        3406             Shanghai Pudong International Airport  31.143400   \n",
       "1186        1218                   Barcelona International Airport  41.297100   \n",
       "3383        3576                       Miami International Airport  25.793200   \n",
       "3727        3930                     Incheon International Airport  37.469101   \n",
       "3555        3751                      Denver International Airport  39.861698   \n",
       "342          346                      Munich International Airport  48.353802   \n",
       "1655        1701                     Atatürk International Airport  40.976898   \n",
       "2934        3077                Chek Lap Kok International Airport  22.308901   \n",
       "497          502                            London Gatwick Airport  51.148102   \n",
       "2102        2188                       Dubai International Airport  25.252800   \n",
       "1514        1555               Leonardo da Vinci–Fiumicino Airport  41.800278   \n",
       "1196        1229              Adolfo Suárez Madrid–Barajas Airport  40.471926   \n",
       "3687        3885                              Suvarnabhumi Airport  13.681100   \n",
       "3184        3370            Guangzhou Baiyun International Airport  23.392401   \n",
       "3816        4029                  Domodedovo International Airport  55.408798   \n",
       "191          193           Lester B. Pearson International Airport  43.677200   \n",
       "299          302                                  Brussels Airport  50.901402   \n",
       "3209        3395           Chengdu Shuangliu International Airport  30.578501   \n",
       "473          478                                Manchester Airport  53.353699   \n",
       "...          ...                                               ...        ...   \n",
       "7185       12028                                    Kerang Airport -35.751400   \n",
       "7186       12029                                   Kempsey Airport -31.074400   \n",
       "7187       12030                                  Kingaroy Airport -26.580799   \n",
       "7188       12031                            Latrobe Valley Airport -38.207199   \n",
       "7189       12032                                   Mareeba Airport -17.069201   \n",
       "7190       12033                                   Ngukurr Airport -14.722800   \n",
       "7191       12034                                 Narromine Airport -32.214699   \n",
       "7192       12035                                Port Pirie Airport -33.238899   \n",
       "7193       12036                                  Smithton Airport -40.834999   \n",
       "7194       12037                                 Snake Bay Airport -11.422800   \n",
       "7195       12038                                   Stawell Airport -37.071701   \n",
       "7196       12039                                Tibooburra Airport -29.451099   \n",
       "7197       12040                                     Tumut Airport -35.262798   \n",
       "7198       12041                                Wangaratta Airport -36.415798   \n",
       "7199       12042                             Warracknabeal Airport -36.321098   \n",
       "7200       12043                                    Warren Airport -31.733299   \n",
       "7201       12044                                 West Sale Airport -38.090827   \n",
       "7202       12045                              West Wyalong Airport -33.937199   \n",
       "7203       12046                                     Young Airport -34.255600   \n",
       "7204       12047                             Guangzhou MR Air Base  32.389400   \n",
       "7205       12048                         Shiyan Wudangshan Airport  32.591667   \n",
       "7206       12049                                  Sunchon Air Base  39.415699   \n",
       "7207       12050                                  Huatugou Airport  38.201984   \n",
       "7208       12051                                Baruun Urt Airport  46.660301   \n",
       "7209       12052                                    Bengbu Airport  32.847733   \n",
       "7210       12053                                    Rugao Air Base  32.257885   \n",
       "7211       12054                                     Wuhu Air Base  31.390600   \n",
       "7212       12055                                  Shanshan Airport  42.911701   \n",
       "7213       12056                             Yingkou Lanqi Airport  40.542524   \n",
       "7214       12057                           Shenyang Dongta Airport  41.784401   \n",
       "\n",
       "             lon               country      continent IATA  ICAO  Altitude  \\\n",
       "3489  -84.428101         United States  North America  ATL  KATL      1026   \n",
       "3633  -87.904800         United States  North America  ORD  KORD       672   \n",
       "502    -0.461941        United Kingdom         Europe  LHR  EGLL        83   \n",
       "3180  116.584999                 China           Asia  PEK  ZBAA       116   \n",
       "1346    2.550000                France         Europe  CDG  LFPG       392   \n",
       "3294 -118.407997         United States  North America  LAX  KLAX       125   \n",
       "336     8.570556               Germany         Europe  FRA  EDDF       364   \n",
       "3477  -97.038002         United States  North America  DFW  KDFW       607   \n",
       "3601  -73.778900         United States  North America  JFK  KJFK        13   \n",
       "574     4.763890           Netherlands         Europe  AMS  EHAM       -11   \n",
       "3134  103.994003             Singapore           Asia  SIN  WSSS        22   \n",
       "3217  121.805000                 China           Asia  PVG  ZSPD        13   \n",
       "1186    2.078460                 Spain         Europe  BCN  LEBL        12   \n",
       "3383  -80.290604         United States  North America  MIA  KMIA         8   \n",
       "3727  126.450996           South Korea           Asia  ICN  RKSI        23   \n",
       "3555 -104.672997         United States  North America  DEN  KDEN      5431   \n",
       "342    11.786100               Germany         Europe  MUC  EDDM      1487   \n",
       "1655   28.814600                Turkey           Asia  IST  LTBA       163   \n",
       "2934  113.915001             Hong Kong           Asia  HKG  VHHH        28   \n",
       "497    -0.190278        United Kingdom         Europe  LGW  EGKK       202   \n",
       "2102   55.364399  United Arab Emirates           Asia  DXB  OMDB        62   \n",
       "1514   12.238889                 Italy         Europe  FCO  LIRF        13   \n",
       "1196   -3.562640                 Spain         Europe  MAD  LEMD      1998   \n",
       "3687  100.747002              Thailand           Asia  BKK  VTBS         5   \n",
       "3184  113.299004                 China           Asia  CAN  ZGGG        50   \n",
       "3816   37.906300                Russia           Asia  DME  UUDD       588   \n",
       "191   -79.630600                Canada  North America  YYZ  CYYZ       569   \n",
       "299     4.484440               Belgium         Europe  BRU  EBBR       184   \n",
       "3209  103.946999                 China           Asia  CTU  ZUUU      1625   \n",
       "473    -2.274950        United Kingdom         Europe  MAN  EGCC       257   \n",
       "...          ...                   ...            ...  ...   ...       ...   \n",
       "7185  143.938995             Australia        Oceania  KRA  YKER       254   \n",
       "7186  152.770004             Australia        Oceania  KPS  YKMP        54   \n",
       "7187  151.841003             Australia        Oceania  KGY  YKRY      1492   \n",
       "7188  146.470001             Australia        Oceania  TGN  YLTV       180   \n",
       "7189  145.419006             Australia        Oceania  MRG  YMBA      1560   \n",
       "7190  134.746994             Australia        Oceania  RPM  YNGU        45   \n",
       "7191  148.225006             Australia        Oceania  QRM  YNRM       782   \n",
       "7192  137.994995             Australia        Oceania  PPI  YPIR        40   \n",
       "7193  145.084000             Australia        Oceania  SIO  YSMI        31   \n",
       "7194  130.654007             Australia        Oceania  SNB  YSNB       173   \n",
       "7195  142.740997             Australia        Oceania  SWC  YSWL       807   \n",
       "7196  142.057999             Australia        Oceania  TYB  YTIB       584   \n",
       "7197  148.240997             Australia        Oceania  TUM  YTMU       878   \n",
       "7198  146.307007             Australia        Oceania  WGT  YWGT       504   \n",
       "7199  142.419006             Australia        Oceania  WKB  YWKB       397   \n",
       "7200  147.802994             Australia        Oceania  QRR  YWRN       669   \n",
       "7201  146.965335             Australia        Oceania  SXE  YWSL        72   \n",
       "7202  147.190994             Australia        Oceania  WWY  YWWL       859   \n",
       "7203  148.248001             Australia        Oceania  NGA  YYNG      1267   \n",
       "7204  111.695000                 China           Asia  LHK  ZHGH         0   \n",
       "7205  110.907778                 China           Asia  WDS  ZHSY         0   \n",
       "7206  125.894997           North Korea           Asia   \\N  ZKSC       141   \n",
       "7207   90.841495                 China           Asia  HTT  ZLHX      2945   \n",
       "7208  113.285004              Mongolia           Asia  UUN  ZMBU      3205   \n",
       "7209  117.320244                 China           Asia  BFU  ZSBB       100   \n",
       "7210  120.501656                 China           Asia  RUG  ZSRG         0   \n",
       "7211  118.408997                 China           Asia  WHU  ZSWU         0   \n",
       "7212   90.247498                 China           Asia  SXJ  ZWSS         0   \n",
       "7213  122.358600                 China           Asia  YKH  ZYYK         0   \n",
       "7214  123.496002                 China           Asia   \\N  ZYYY         0   \n",
       "\n",
       "      cluster_coefficient  degree  \n",
       "3489             0.113714  1826.0  \n",
       "3633             0.126195  1103.0  \n",
       "502              0.214340  1043.0  \n",
       "3180             0.129856  1039.0  \n",
       "1346             0.144275  1038.0  \n",
       "3294             0.184501   986.0  \n",
       "336              0.146291   974.0  \n",
       "3477             0.126962   934.0  \n",
       "3601             0.196040   907.0  \n",
       "574              0.147901   896.0  \n",
       "3134             0.171798   812.0  \n",
       "3217             0.163250   811.0  \n",
       "1186             0.234338   778.0  \n",
       "3383             0.179414   734.0  \n",
       "3727             0.190135   732.0  \n",
       "3555             0.130881   731.0  \n",
       "342              0.199610   718.0  \n",
       "1655             0.116119   703.0  \n",
       "2934             0.210217   702.0  \n",
       "497              0.169235   700.0  \n",
       "2102             0.136850   689.0  \n",
       "1514             0.242296   658.0  \n",
       "1196             0.218979   655.0  \n",
       "3687             0.194678   652.0  \n",
       "3184             0.170504   651.0  \n",
       "3816             0.074746   640.0  \n",
       "191              0.192060   636.0  \n",
       "299              0.228698   627.0  \n",
       "3209             0.247129   623.0  \n",
       "473              0.206991   615.0  \n",
       "...                   ...     ...  \n",
       "7185                  NaN     NaN  \n",
       "7186                  NaN     NaN  \n",
       "7187                  NaN     NaN  \n",
       "7188                  NaN     NaN  \n",
       "7189                  NaN     NaN  \n",
       "7190                  NaN     NaN  \n",
       "7191                  NaN     NaN  \n",
       "7192                  NaN     NaN  \n",
       "7193                  NaN     NaN  \n",
       "7194                  NaN     NaN  \n",
       "7195                  NaN     NaN  \n",
       "7196                  NaN     NaN  \n",
       "7197                  NaN     NaN  \n",
       "7198                  NaN     NaN  \n",
       "7199                  NaN     NaN  \n",
       "7200                  NaN     NaN  \n",
       "7201                  NaN     NaN  \n",
       "7202                  NaN     NaN  \n",
       "7203                  NaN     NaN  \n",
       "7204                  NaN     NaN  \n",
       "7205                  NaN     NaN  \n",
       "7206                  NaN     NaN  \n",
       "7207                  NaN     NaN  \n",
       "7208                  NaN     NaN  \n",
       "7209                  NaN     NaN  \n",
       "7210                  NaN     NaN  \n",
       "7211                  NaN     NaN  \n",
       "7212                  NaN     NaN  \n",
       "7213                  NaN     NaN  \n",
       "7214                  NaN     NaN  \n",
       "\n",
       "[7215 rows x 11 columns]"
      ]
     },
     "execution_count": 60,
     "metadata": {},
     "output_type": "execute_result"
    }
   ],
   "source": [
    "result = merge.sort_values(\"degree\", ascending=False)\n",
    "result"
   ]
  },
  {
   "cell_type": "markdown",
   "metadata": {},
   "source": [
    "## Intercontinental routes and airports\n"
   ]
  },
  {
   "cell_type": "code",
   "execution_count": 217,
   "metadata": {},
   "outputs": [],
   "source": [
    "// To delete the tuples with non defined values for Source or Destination Airport\n",
    "edges_df2=edges_df.replace('\\\\N',0)"
   ]
  },
  {
   "cell_type": "code",
   "execution_count": 218,
   "metadata": {},
   "outputs": [],
   "source": [
    "// Data type conversion\n",
    "edges_df2['Source_Airport_ID']=edges_df2['Source_Airport_ID'].astype(int)\n",
    "edges_df2['Destination_Airport_ID']=edges_df2['Destination_Airport_ID'].astype(int)\n",
    "//To delete the useless columns\n",
    "edges_df2=edges_df2.drop(columns=['Airline','Airline_ID','Source_Airport','Destination_Airport','Codeshare','Stops','Equipment'])"
   ]
  },
  {
   "cell_type": "code",
   "execution_count": 219,
   "metadata": {},
   "outputs": [
    {
     "data": {
      "text/html": [
       "<div>\n",
       "<style scoped>\n",
       "    .dataframe tbody tr th:only-of-type {\n",
       "        vertical-align: middle;\n",
       "    }\n",
       "\n",
       "    .dataframe tbody tr th {\n",
       "        vertical-align: top;\n",
       "    }\n",
       "\n",
       "    .dataframe thead th {\n",
       "        text-align: right;\n",
       "    }\n",
       "</style>\n",
       "<table border=\"1\" class=\"dataframe\">\n",
       "  <thead>\n",
       "    <tr style=\"text-align: right;\">\n",
       "      <th></th>\n",
       "      <th>Source_Airport_ID</th>\n",
       "      <th>Destination_Airport_ID</th>\n",
       "    </tr>\n",
       "  </thead>\n",
       "  <tbody>\n",
       "    <tr>\n",
       "      <th>0</th>\n",
       "      <td>2965</td>\n",
       "      <td>2990</td>\n",
       "    </tr>\n",
       "    <tr>\n",
       "      <th>1</th>\n",
       "      <td>2966</td>\n",
       "      <td>2990</td>\n",
       "    </tr>\n",
       "    <tr>\n",
       "      <th>2</th>\n",
       "      <td>2966</td>\n",
       "      <td>2962</td>\n",
       "    </tr>\n",
       "    <tr>\n",
       "      <th>3</th>\n",
       "      <td>2968</td>\n",
       "      <td>2990</td>\n",
       "    </tr>\n",
       "    <tr>\n",
       "      <th>4</th>\n",
       "      <td>2968</td>\n",
       "      <td>4078</td>\n",
       "    </tr>\n",
       "  </tbody>\n",
       "</table>\n",
       "</div>"
      ],
      "text/plain": [
       "   Source_Airport_ID  Destination_Airport_ID\n",
       "0               2965                    2990\n",
       "1               2966                    2990\n",
       "2               2966                    2962\n",
       "3               2968                    2990\n",
       "4               2968                    4078"
      ]
     },
     "execution_count": 219,
     "metadata": {},
     "output_type": "execute_result"
    }
   ],
   "source": [
    "edges_df2.head()"
   ]
  },
  {
   "cell_type": "code",
   "execution_count": 220,
   "metadata": {},
   "outputs": [],
   "source": [
    "//To delete the useless columns\n",
    "merge2=merge.drop(columns=['Name','lat','lon','country','IATA','ICAO','Altitude'])"
   ]
  },
  {
   "cell_type": "code",
   "execution_count": 221,
   "metadata": {},
   "outputs": [
    {
     "data": {
      "text/html": [
       "<div>\n",
       "<style scoped>\n",
       "    .dataframe tbody tr th:only-of-type {\n",
       "        vertical-align: middle;\n",
       "    }\n",
       "\n",
       "    .dataframe tbody tr th {\n",
       "        vertical-align: top;\n",
       "    }\n",
       "\n",
       "    .dataframe thead th {\n",
       "        text-align: right;\n",
       "    }\n",
       "</style>\n",
       "<table border=\"1\" class=\"dataframe\">\n",
       "  <thead>\n",
       "    <tr style=\"text-align: right;\">\n",
       "      <th></th>\n",
       "      <th>Airport_ID</th>\n",
       "      <th>continent</th>\n",
       "      <th>cluster_coefficient</th>\n",
       "      <th>degree</th>\n",
       "    </tr>\n",
       "  </thead>\n",
       "  <tbody>\n",
       "    <tr>\n",
       "      <th>0</th>\n",
       "      <td>1</td>\n",
       "      <td>Oceania</td>\n",
       "      <td>1.000000</td>\n",
       "      <td>10.0</td>\n",
       "    </tr>\n",
       "    <tr>\n",
       "      <th>1</th>\n",
       "      <td>2</td>\n",
       "      <td>Oceania</td>\n",
       "      <td>0.571429</td>\n",
       "      <td>16.0</td>\n",
       "    </tr>\n",
       "    <tr>\n",
       "      <th>2</th>\n",
       "      <td>3</td>\n",
       "      <td>Oceania</td>\n",
       "      <td>0.388889</td>\n",
       "      <td>22.0</td>\n",
       "    </tr>\n",
       "    <tr>\n",
       "      <th>3</th>\n",
       "      <td>4</td>\n",
       "      <td>Oceania</td>\n",
       "      <td>0.388889</td>\n",
       "      <td>22.0</td>\n",
       "    </tr>\n",
       "    <tr>\n",
       "      <th>4</th>\n",
       "      <td>5</td>\n",
       "      <td>Oceania</td>\n",
       "      <td>0.125000</td>\n",
       "      <td>95.0</td>\n",
       "    </tr>\n",
       "  </tbody>\n",
       "</table>\n",
       "</div>"
      ],
      "text/plain": [
       "   Airport_ID continent  cluster_coefficient  degree\n",
       "0           1   Oceania             1.000000    10.0\n",
       "1           2   Oceania             0.571429    16.0\n",
       "2           3   Oceania             0.388889    22.0\n",
       "3           4   Oceania             0.388889    22.0\n",
       "4           5   Oceania             0.125000    95.0"
      ]
     },
     "execution_count": 221,
     "metadata": {},
     "output_type": "execute_result"
    }
   ],
   "source": [
    "merge2.head()"
   ]
  },
  {
   "cell_type": "code",
   "execution_count": 222,
   "metadata": {},
   "outputs": [],
   "source": [
    "//To delete the tuples with non defined values for Source or Destination Airport\n",
    "merge2=merge2.replace('\\\\N',0)\n",
    "//data type conversion\n",
    "merge2['Airport_ID']=merge2['Airport_ID'].astype(int)"
   ]
  },
  {
   "cell_type": "code",
   "execution_count": 223,
   "metadata": {},
   "outputs": [],
   "source": [
    "// Joint of the tables to associate a continent to the source Airport\n",
    "merge3 = edges_df2.merge(merge2, left_on='Source_Airport_ID',right_on='Airport_ID')"
   ]
  },
  {
   "cell_type": "code",
   "execution_count": 224,
   "metadata": {},
   "outputs": [
    {
     "data": {
      "text/html": [
       "<div>\n",
       "<style scoped>\n",
       "    .dataframe tbody tr th:only-of-type {\n",
       "        vertical-align: middle;\n",
       "    }\n",
       "\n",
       "    .dataframe tbody tr th {\n",
       "        vertical-align: top;\n",
       "    }\n",
       "\n",
       "    .dataframe thead th {\n",
       "        text-align: right;\n",
       "    }\n",
       "</style>\n",
       "<table border=\"1\" class=\"dataframe\">\n",
       "  <thead>\n",
       "    <tr style=\"text-align: right;\">\n",
       "      <th></th>\n",
       "      <th>Source_Airport_ID</th>\n",
       "      <th>Destination_Airport_ID</th>\n",
       "      <th>Airport_ID</th>\n",
       "      <th>continent</th>\n",
       "      <th>cluster_coefficient</th>\n",
       "      <th>degree</th>\n",
       "    </tr>\n",
       "  </thead>\n",
       "  <tbody>\n",
       "    <tr>\n",
       "      <th>0</th>\n",
       "      <td>2965</td>\n",
       "      <td>2990</td>\n",
       "      <td>2965</td>\n",
       "      <td>Asia</td>\n",
       "      <td>0.51634</td>\n",
       "      <td>52.0</td>\n",
       "    </tr>\n",
       "    <tr>\n",
       "      <th>1</th>\n",
       "      <td>2965</td>\n",
       "      <td>2979</td>\n",
       "      <td>2965</td>\n",
       "      <td>Asia</td>\n",
       "      <td>0.51634</td>\n",
       "      <td>52.0</td>\n",
       "    </tr>\n",
       "    <tr>\n",
       "      <th>2</th>\n",
       "      <td>2965</td>\n",
       "      <td>1735</td>\n",
       "      <td>2965</td>\n",
       "      <td>Asia</td>\n",
       "      <td>0.51634</td>\n",
       "      <td>52.0</td>\n",
       "    </tr>\n",
       "    <tr>\n",
       "      <th>3</th>\n",
       "      <td>2965</td>\n",
       "      <td>2954</td>\n",
       "      <td>2965</td>\n",
       "      <td>Asia</td>\n",
       "      <td>0.51634</td>\n",
       "      <td>52.0</td>\n",
       "    </tr>\n",
       "    <tr>\n",
       "      <th>4</th>\n",
       "      <td>2965</td>\n",
       "      <td>2983</td>\n",
       "      <td>2965</td>\n",
       "      <td>Asia</td>\n",
       "      <td>0.51634</td>\n",
       "      <td>52.0</td>\n",
       "    </tr>\n",
       "  </tbody>\n",
       "</table>\n",
       "</div>"
      ],
      "text/plain": [
       "   Source_Airport_ID  Destination_Airport_ID  Airport_ID continent  \\\n",
       "0               2965                    2990        2965      Asia   \n",
       "1               2965                    2979        2965      Asia   \n",
       "2               2965                    1735        2965      Asia   \n",
       "3               2965                    2954        2965      Asia   \n",
       "4               2965                    2983        2965      Asia   \n",
       "\n",
       "   cluster_coefficient  degree  \n",
       "0              0.51634    52.0  \n",
       "1              0.51634    52.0  \n",
       "2              0.51634    52.0  \n",
       "3              0.51634    52.0  \n",
       "4              0.51634    52.0  "
      ]
     },
     "execution_count": 224,
     "metadata": {},
     "output_type": "execute_result"
    }
   ],
   "source": [
    "merge3.head()"
   ]
  },
  {
   "cell_type": "code",
   "execution_count": 225,
   "metadata": {},
   "outputs": [
    {
     "data": {
      "text/html": [
       "<div>\n",
       "<style scoped>\n",
       "    .dataframe tbody tr th:only-of-type {\n",
       "        vertical-align: middle;\n",
       "    }\n",
       "\n",
       "    .dataframe tbody tr th {\n",
       "        vertical-align: top;\n",
       "    }\n",
       "\n",
       "    .dataframe thead th {\n",
       "        text-align: right;\n",
       "    }\n",
       "</style>\n",
       "<table border=\"1\" class=\"dataframe\">\n",
       "  <thead>\n",
       "    <tr style=\"text-align: right;\">\n",
       "      <th></th>\n",
       "      <th>Airport_ID</th>\n",
       "      <th>continent</th>\n",
       "    </tr>\n",
       "  </thead>\n",
       "  <tbody>\n",
       "    <tr>\n",
       "      <th>0</th>\n",
       "      <td>1</td>\n",
       "      <td>Oceania</td>\n",
       "    </tr>\n",
       "    <tr>\n",
       "      <th>1</th>\n",
       "      <td>2</td>\n",
       "      <td>Oceania</td>\n",
       "    </tr>\n",
       "    <tr>\n",
       "      <th>2</th>\n",
       "      <td>3</td>\n",
       "      <td>Oceania</td>\n",
       "    </tr>\n",
       "    <tr>\n",
       "      <th>3</th>\n",
       "      <td>4</td>\n",
       "      <td>Oceania</td>\n",
       "    </tr>\n",
       "    <tr>\n",
       "      <th>4</th>\n",
       "      <td>5</td>\n",
       "      <td>Oceania</td>\n",
       "    </tr>\n",
       "  </tbody>\n",
       "</table>\n",
       "</div>"
      ],
      "text/plain": [
       "   Airport_ID continent\n",
       "0           1   Oceania\n",
       "1           2   Oceania\n",
       "2           3   Oceania\n",
       "3           4   Oceania\n",
       "4           5   Oceania"
      ]
     },
     "execution_count": 225,
     "metadata": {},
     "output_type": "execute_result"
    }
   ],
   "source": [
    "//Rename of the Source Airport Continent column\n",
    "merge3=merge3.rename(columns={'continent':'Source_Continent'})\n",
    "//To delete useless columns\n",
    "merge3=merge3.drop(columns=['Airport_ID'])\n",
    "merge2_red=merge2.drop(columns=['cluster_coefficient','degree'])\n",
    "merge2_red.head()"
   ]
  },
  {
   "cell_type": "code",
   "execution_count": 226,
   "metadata": {},
   "outputs": [],
   "source": [
    "//Joint of the tables to associate a continent to the destination Airport\n",
    "merge4 = merge3.merge(merge2_red, left_on='Destination_Airport_ID',right_on='Airport_ID')"
   ]
  },
  {
   "cell_type": "code",
   "execution_count": 227,
   "metadata": {},
   "outputs": [
    {
     "data": {
      "text/html": [
       "<div>\n",
       "<style scoped>\n",
       "    .dataframe tbody tr th:only-of-type {\n",
       "        vertical-align: middle;\n",
       "    }\n",
       "\n",
       "    .dataframe tbody tr th {\n",
       "        vertical-align: top;\n",
       "    }\n",
       "\n",
       "    .dataframe thead th {\n",
       "        text-align: right;\n",
       "    }\n",
       "</style>\n",
       "<table border=\"1\" class=\"dataframe\">\n",
       "  <thead>\n",
       "    <tr style=\"text-align: right;\">\n",
       "      <th></th>\n",
       "      <th>Source_Airport_ID</th>\n",
       "      <th>Destination_Airport_ID</th>\n",
       "      <th>Source_Continent</th>\n",
       "      <th>cluster_coefficient</th>\n",
       "      <th>degree</th>\n",
       "      <th>Destination_Continent</th>\n",
       "    </tr>\n",
       "  </thead>\n",
       "  <tbody>\n",
       "    <tr>\n",
       "      <th>0</th>\n",
       "      <td>2965</td>\n",
       "      <td>2990</td>\n",
       "      <td>Asia</td>\n",
       "      <td>0.516340</td>\n",
       "      <td>52.0</td>\n",
       "      <td>Asia</td>\n",
       "    </tr>\n",
       "    <tr>\n",
       "      <th>1</th>\n",
       "      <td>2966</td>\n",
       "      <td>2990</td>\n",
       "      <td>Asia</td>\n",
       "      <td>0.571429</td>\n",
       "      <td>16.0</td>\n",
       "      <td>Asia</td>\n",
       "    </tr>\n",
       "    <tr>\n",
       "      <th>2</th>\n",
       "      <td>2968</td>\n",
       "      <td>2990</td>\n",
       "      <td>Asia</td>\n",
       "      <td>0.549451</td>\n",
       "      <td>40.0</td>\n",
       "      <td>Asia</td>\n",
       "    </tr>\n",
       "    <tr>\n",
       "      <th>3</th>\n",
       "      <td>4029</td>\n",
       "      <td>2990</td>\n",
       "      <td>Asia</td>\n",
       "      <td>0.074746</td>\n",
       "      <td>640.0</td>\n",
       "      <td>Asia</td>\n",
       "    </tr>\n",
       "    <tr>\n",
       "      <th>4</th>\n",
       "      <td>4029</td>\n",
       "      <td>2990</td>\n",
       "      <td>Asia</td>\n",
       "      <td>0.074746</td>\n",
       "      <td>640.0</td>\n",
       "      <td>Asia</td>\n",
       "    </tr>\n",
       "  </tbody>\n",
       "</table>\n",
       "</div>"
      ],
      "text/plain": [
       "   Source_Airport_ID  Destination_Airport_ID Source_Continent  \\\n",
       "0               2965                    2990             Asia   \n",
       "1               2966                    2990             Asia   \n",
       "2               2968                    2990             Asia   \n",
       "3               4029                    2990             Asia   \n",
       "4               4029                    2990             Asia   \n",
       "\n",
       "   cluster_coefficient  degree Destination_Continent  \n",
       "0             0.516340    52.0                  Asia  \n",
       "1             0.571429    16.0                  Asia  \n",
       "2             0.549451    40.0                  Asia  \n",
       "3             0.074746   640.0                  Asia  \n",
       "4             0.074746   640.0                  Asia  "
      ]
     },
     "execution_count": 227,
     "metadata": {},
     "output_type": "execute_result"
    }
   ],
   "source": [
    "// Rename and drop columns\n",
    "merge4=merge4.rename(columns={'continent':'Destination_Continent'})\n",
    "merge4=merge4.drop(columns=['Airport_ID'])\n",
    "merge4.head()"
   ]
  },
  {
   "cell_type": "code",
   "execution_count": 228,
   "metadata": {},
   "outputs": [
    {
     "data": {
      "text/plain": [
       "22565"
      ]
     },
     "execution_count": 228,
     "metadata": {},
     "output_type": "execute_result"
    }
   ],
   "source": [
    "// All flights coming from Asia\n",
    "len(merge4[merge4['Source_Continent']=='Asia'])\n"
   ]
  },
  {
   "cell_type": "code",
   "execution_count": 229,
   "metadata": {},
   "outputs": [
    {
     "data": {
      "text/plain": [
       "22572"
      ]
     },
     "execution_count": 229,
     "metadata": {},
     "output_type": "execute_result"
    }
   ],
   "source": [
    "//All flights going to Asia\n",
    "len(merge4[merge4['Destination_Continent']=='Asia'])"
   ]
  },
  {
   "cell_type": "code",
   "execution_count": 230,
   "metadata": {},
   "outputs": [
    {
     "data": {
      "text/plain": [
       "18860"
      ]
     },
     "execution_count": 230,
     "metadata": {},
     "output_type": "execute_result"
    }
   ],
   "source": [
    "// All flights coming from Europe\n",
    "len(merge4[merge4['Source_Continent']=='Europe'])"
   ]
  },
  {
   "cell_type": "code",
   "execution_count": 231,
   "metadata": {},
   "outputs": [
    {
     "data": {
      "text/plain": [
       "18851"
      ]
     },
     "execution_count": 231,
     "metadata": {},
     "output_type": "execute_result"
    }
   ],
   "source": [
    "//All flights going to Europe\n",
    "len(merge4[merge4['Destination_Continent']=='Europe'])"
   ]
  },
  {
   "cell_type": "code",
   "execution_count": 232,
   "metadata": {},
   "outputs": [
    {
     "data": {
      "text/plain": [
       "3031"
      ]
     },
     "execution_count": 232,
     "metadata": {},
     "output_type": "execute_result"
    }
   ],
   "source": [
    "// All flights coming from South America\n",
    "len(merge4[merge4['Source_Continent']=='South America'])"
   ]
  },
  {
   "cell_type": "code",
   "execution_count": 233,
   "metadata": {},
   "outputs": [
    {
     "data": {
      "text/plain": [
       "3028"
      ]
     },
     "execution_count": 233,
     "metadata": {},
     "output_type": "execute_result"
    }
   ],
   "source": [
    "//All flights going to South America\n",
    "len(merge4[merge4['Destination_Continent']=='South America'])"
   ]
  },
  {
   "cell_type": "code",
   "execution_count": 234,
   "metadata": {},
   "outputs": [
    {
     "data": {
      "text/plain": [
       "17135"
      ]
     },
     "execution_count": 234,
     "metadata": {},
     "output_type": "execute_result"
    }
   ],
   "source": [
    "// All flights coming from North America\n",
    "len(merge4[merge4['Source_Continent']=='North America'])"
   ]
  },
  {
   "cell_type": "code",
   "execution_count": 235,
   "metadata": {},
   "outputs": [
    {
     "data": {
      "text/plain": [
       "17124"
      ]
     },
     "execution_count": 235,
     "metadata": {},
     "output_type": "execute_result"
    }
   ],
   "source": [
    "//All flights going to North America\n",
    "len(merge4[merge4['Destination_Continent']=='North America'])"
   ]
  },
  {
   "cell_type": "code",
   "execution_count": 236,
   "metadata": {},
   "outputs": [
    {
     "data": {
      "text/plain": [
       "3223"
      ]
     },
     "execution_count": 236,
     "metadata": {},
     "output_type": "execute_result"
    }
   ],
   "source": [
    "//All flights coming from Africa\n",
    "len(merge4[merge4['Source_Continent']=='Africa'])"
   ]
  },
  {
   "cell_type": "code",
   "execution_count": 237,
   "metadata": {},
   "outputs": [
    {
     "data": {
      "text/plain": [
       "3230"
      ]
     },
     "execution_count": 237,
     "metadata": {},
     "output_type": "execute_result"
    }
   ],
   "source": [
    "//All flights going to Africa\n",
    "len(merge4[merge4['Destination_Continent']=='Africa'])"
   ]
  },
  {
   "cell_type": "code",
   "execution_count": 238,
   "metadata": {},
   "outputs": [
    {
     "data": {
      "text/plain": [
       "1920"
      ]
     },
     "execution_count": 238,
     "metadata": {},
     "output_type": "execute_result"
    }
   ],
   "source": [
    "//All flights coming from Oceania\n",
    "len(merge4[merge4['Source_Continent']=='Oceania'])"
   ]
  },
  {
   "cell_type": "code",
   "execution_count": 239,
   "metadata": {},
   "outputs": [
    {
     "data": {
      "text/plain": [
       "1929"
      ]
     },
     "execution_count": 239,
     "metadata": {},
     "output_type": "execute_result"
    }
   ],
   "source": [
    "//All flights going to Oceania\n",
    "len(merge4[merge4['Destination_Continent']=='Oceania'])"
   ]
  },
  {
   "cell_type": "code",
   "execution_count": 259,
   "metadata": {},
   "outputs": [
    {
     "data": {
      "text/plain": [
       "10214"
      ]
     },
     "execution_count": 259,
     "metadata": {},
     "output_type": "execute_result"
    }
   ],
   "source": [
    "//Number of Intercontinental Routes\n",
    "len(merge4[merge4.Destination_Continent!=merge4.Source_Continent])"
   ]
  },
  {
   "cell_type": "code",
   "execution_count": 241,
   "metadata": {},
   "outputs": [
    {
     "data": {
      "text/plain": [
       "56703"
      ]
     },
     "execution_count": 241,
     "metadata": {},
     "output_type": "execute_result"
    }
   ],
   "source": [
    "//Number of Intracontinental Routes\n",
    "len(merge4[merge4.Destination_Continent==merge4.Source_Continent])"
   ]
  },
  {
   "cell_type": "code",
   "execution_count": 242,
   "metadata": {},
   "outputs": [
    {
     "data": {
      "text/plain": [
       "1592"
      ]
     },
     "execution_count": 242,
     "metadata": {},
     "output_type": "execute_result"
    }
   ],
   "source": [
    "//International Routes from Asia to Europe\n",
    "len(merge4[(merge4['Destination_Continent']=='Europe')&(merge4['Source_Continent']=='Asia')])"
   ]
  },
  {
   "cell_type": "code",
   "execution_count": 243,
   "metadata": {},
   "outputs": [
    {
     "data": {
      "text/plain": [
       "1593"
      ]
     },
     "execution_count": 243,
     "metadata": {},
     "output_type": "execute_result"
    }
   ],
   "source": [
    "//International Routes from Europe to Asia\n",
    "len(merge4[(merge4['Destination_Continent']=='Asia')&(merge4['Source_Continent']=='Europe')])"
   ]
  },
  {
   "cell_type": "code",
   "execution_count": 244,
   "metadata": {},
   "outputs": [
    {
     "data": {
      "text/plain": [
       "999"
      ]
     },
     "execution_count": 244,
     "metadata": {},
     "output_type": "execute_result"
    }
   ],
   "source": [
    "//International Routes from North America to Europe\n",
    "len(merge4[(merge4['Destination_Continent']=='Europe')&(merge4['Source_Continent']=='North America')])"
   ]
  },
  {
   "cell_type": "code",
   "execution_count": 245,
   "metadata": {},
   "outputs": [
    {
     "data": {
      "text/plain": [
       "998"
      ]
     },
     "execution_count": 245,
     "metadata": {},
     "output_type": "execute_result"
    }
   ],
   "source": [
    "//International Routes from Europe to North America\n",
    "len(merge4[(merge4['Destination_Continent']=='North America')&(merge4['Source_Continent']=='Europe')])"
   ]
  },
  {
   "cell_type": "code",
   "execution_count": 246,
   "metadata": {},
   "outputs": [
    {
     "data": {
      "text/plain": [
       "366"
      ]
     },
     "execution_count": 246,
     "metadata": {},
     "output_type": "execute_result"
    }
   ],
   "source": [
    "//International Routes from North America to Asia\n",
    "len(merge4[(merge4['Destination_Continent']=='Asia')&(merge4['Source_Continent']=='North America')])"
   ]
  },
  {
   "cell_type": "code",
   "execution_count": 247,
   "metadata": {},
   "outputs": [
    {
     "data": {
      "text/plain": [
       "363"
      ]
     },
     "execution_count": 247,
     "metadata": {},
     "output_type": "execute_result"
    }
   ],
   "source": [
    "//International Routes from Asia to North America\n",
    "len(merge4[(merge4['Destination_Continent']=='North America')&(merge4['Source_Continent']=='Asia')])"
   ]
  },
  {
   "cell_type": "code",
   "execution_count": 248,
   "metadata": {},
   "outputs": [
    {
     "data": {
      "text/plain": [
       "15240"
      ]
     },
     "execution_count": 248,
     "metadata": {},
     "output_type": "execute_result"
    }
   ],
   "source": [
    "//Intercontinental Routes in North America\n",
    "len(merge4[(merge4['Destination_Continent']=='North America')&(merge4['Source_Continent']=='North America')])"
   ]
  },
  {
   "cell_type": "code",
   "execution_count": 249,
   "metadata": {},
   "outputs": [
    {
     "data": {
      "text/plain": [
       "15383"
      ]
     },
     "execution_count": 249,
     "metadata": {},
     "output_type": "execute_result"
    }
   ],
   "source": [
    "//Intercontinental Routes in Europe\n",
    "len(merge4[(merge4['Destination_Continent']=='Europe')&(merge4['Source_Continent']=='Europe')])"
   ]
  },
  {
   "cell_type": "code",
   "execution_count": 250,
   "metadata": {},
   "outputs": [
    {
     "data": {
      "text/plain": [
       "19930"
      ]
     },
     "execution_count": 250,
     "metadata": {},
     "output_type": "execute_result"
    }
   ],
   "source": [
    "//Intercontinental Routes in Asia\n",
    "len(merge4[(merge4['Destination_Continent']=='Asia')&(merge4['Source_Continent']=='Asia')])"
   ]
  },
  {
   "cell_type": "code",
   "execution_count": 251,
   "metadata": {},
   "outputs": [
    {
     "data": {
      "text/plain": [
       "1628"
      ]
     },
     "execution_count": 251,
     "metadata": {},
     "output_type": "execute_result"
    }
   ],
   "source": [
    "//Intercontinental Routes in Oceania\n",
    "len(merge4[(merge4['Destination_Continent']=='Oceania')&(merge4['Source_Continent']=='Oceania')])"
   ]
  },
  {
   "cell_type": "code",
   "execution_count": 252,
   "metadata": {},
   "outputs": [
    {
     "data": {
      "text/plain": [
       "2450"
      ]
     },
     "execution_count": 252,
     "metadata": {},
     "output_type": "execute_result"
    }
   ],
   "source": [
    "//Intercontinental Routes in South America\n",
    "len(merge4[(merge4['Destination_Continent']=='South America')&(merge4['Source_Continent']=='South America')])"
   ]
  },
  {
   "cell_type": "code",
   "execution_count": 253,
   "metadata": {},
   "outputs": [
    {
     "data": {
      "text/plain": [
       "2072"
      ]
     },
     "execution_count": 253,
     "metadata": {},
     "output_type": "execute_result"
    }
   ],
   "source": [
    "//Intercontinental Routes in Africa\n",
    "len(merge4[(merge4['Destination_Continent']=='Africa')&(merge4['Source_Continent']=='Africa')])"
   ]
  },
  {
   "cell_type": "code",
   "execution_count": 260,
   "metadata": {},
   "outputs": [
    {
     "data": {
      "text/plain": [
       "596"
      ]
     },
     "execution_count": 260,
     "metadata": {},
     "output_type": "execute_result"
    }
   ],
   "source": [
    "//Intercontinental airports \n",
    "IFroutes=merge4[merge4.Destination_Continent!=merge4.Source_Continent]\n",
    "len(IFroutes['Source_Airport_ID'].unique())"
   ]
  },
  {
   "cell_type": "code",
   "execution_count": 256,
   "metadata": {},
   "outputs": [
    {
     "data": {
      "text/plain": [
       "145"
      ]
     },
     "execution_count": 256,
     "metadata": {},
     "output_type": "execute_result"
    }
   ],
   "source": [
    "//Intercontinental airports in Asia\n",
    "IFroutesAsia=IFroutes[IFroutes['Source_Continent']=='Asia']\n",
    "len(IFroutesAsia['Source_Airport_ID'].unique())"
   ]
  },
  {
   "cell_type": "code",
   "execution_count": 257,
   "metadata": {},
   "outputs": [
    {
     "data": {
      "text/plain": [
       "183"
      ]
     },
     "execution_count": 257,
     "metadata": {},
     "output_type": "execute_result"
    }
   ],
   "source": [
    "//Intercontinental airports in Europe\n",
    "IFroutesUE=IFroutes[IFroutes['Source_Continent']=='Europe']\n",
    "len(IFroutesUE['Source_Airport_ID'].unique())"
   ]
  },
  {
   "cell_type": "code",
   "execution_count": 258,
   "metadata": {},
   "outputs": [
    {
     "data": {
      "text/plain": [
       "87"
      ]
     },
     "execution_count": 258,
     "metadata": {},
     "output_type": "execute_result"
    }
   ],
   "source": [
    "//Intercontinental airports in North America\n",
    "IFroutesNA=IFroutes[IFroutes['Source_Continent']=='North America']\n",
    "len(IFroutesNA['Source_Airport_ID'].unique())"
   ]
  }
 ],
 "metadata": {
  "kernelspec": {
   "display_name": "Python 3",
   "language": "python",
   "name": "python3"
  },
  "language_info": {
   "codemirror_mode": {
    "name": "ipython",
    "version": 3
   },
   "file_extension": ".py",
   "mimetype": "text/x-python",
   "name": "python",
   "nbconvert_exporter": "python",
   "pygments_lexer": "ipython3",
   "version": "3.7.0"
  }
 },
 "nbformat": 4,
 "nbformat_minor": 2
}
