{
 "cells": [
  {
   "cell_type": "code",
   "execution_count": 26,
   "metadata": {},
   "outputs": [],
   "source": [
    "import numpy as np\n",
    "import pandas as pd\n",
    "import matplotlib.pyplot as plt"
   ]
  },
  {
   "cell_type": "code",
   "execution_count": 45,
   "metadata": {},
   "outputs": [
    {
     "data": {
      "text/plain": [
       "(7184, 14)"
      ]
     },
     "execution_count": 45,
     "metadata": {},
     "output_type": "execute_result"
    }
   ],
   "source": [
    "path = \"flight_data/\"\n",
    "\n",
    "nodes_col_Names = ['Airport_ID', 'Name', 'City', 'Country', 'IATA', 'ICAO', 'Latitude', 'Longitude', 'Altitude', 'Timezone', 'DST', 'Tz_database_time_zone', 'Type', 'Source']\n",
    "edges_col_Names = ['Airline', 'Airline_ID', 'Source_Airport', 'Source_Airport_ID', 'Destination_Airport', 'Destination_Airport_ID', 'Codeshare', 'Stops', 'Equipment']\n",
    "\n",
    "nodes_df = pd.read_csv(path+'/airports.dat', names = nodes_col_Names)\n",
    "edges_df = pd.read_csv(path+'/routes.dat', names = edges_col_Names)\n",
    "\n",
    "nodes_df.shape"
   ]
  },
  {
   "cell_type": "code",
   "execution_count": 46,
   "metadata": {},
   "outputs": [
    {
     "data": {
      "text/plain": [
       "(7215, 15)"
      ]
     },
     "execution_count": 46,
     "metadata": {},
     "output_type": "execute_result"
    }
   ],
   "source": [
    "c_1 = pd.read_csv('data/Countries-Continents.csv')\n",
    "c_1.loc[len(c_1)]=['Asia','Russia'] \n",
    "c_1.loc[len(c_1)]=['North America','United States'] \n",
    "c_1.loc[len(c_1)]=['Africa','Cote d\\'Ivoire'] \n",
    "c_1.loc[len(c_1)]=['Africa','Congo (Kinshasa)'] \n",
    "c_1.loc[len(c_1)]=['Asia','South Korea'] \n",
    "c_1.loc[len(c_1)]=['Asia','Burma'] \n",
    "c_1.loc[len(c_1)]=['Europe','Czech Republic'] \n",
    "c_1.loc[len(c_1)]=['Asia','North Korea'] \n",
    "c_1.loc[len(c_1)]=['Antarctica','Antarctica'] \n",
    "c_1.loc[len(c_1)]=['Antarctica','Antarctica'] \n",
    "c_1.loc[len(c_1)]=['Asia','Taiwan'] \n",
    "c_1.loc[len(c_1)]=['Africa','Congo (Brazzaville)'] \n",
    "c_1.loc[len(c_1)]=['Africa','Reunion'] \n",
    "c_1.loc[len(c_1)]=['Asia','West Bank'] \n",
    "c_1.loc[len(c_1)]=['Asia','Taiwan'] \n",
    "c_1.loc[len(c_1)]=['North America','Greenland'] \n",
    "c_1.loc[len(c_1)]=['Africa','Burkina Faso'] \n",
    "c_1.loc[len(c_1)]=['Europe','Guernsey'] \n",
    "c_1.loc[len(c_1)]=['Europe','Jersey']\n",
    "c_1.loc[len(c_1)]=['Europe','Isle of Man']\n",
    "c_1.loc[len(c_1)]=['Europe','Isle Of Man']\n",
    "c_1.loc[len(c_1)]=['South America','Falkland Islands'] \n",
    "c_1.loc[len(c_1)]=['Africa','Dzaoudzi'] \n",
    "c_1.loc[len(c_1)]=['North America','Saint Pierre and Miquelon'] \n",
    "c_1.loc[len(c_1)]=['Europe','Gibraltar']\n",
    "c_1.loc[len(c_1)]=['South America','British Virgin Islands']\n",
    "c_1.loc[len(c_1)]=['Oceania','Faroe Islands']\n",
    "c_1.loc[len(c_1)]=['Oceania','French Polynesia']\n",
    "c_1.loc[len(c_1)]=['South America','Puerto Rico']\n",
    "c_1.loc[len(c_1)]=['South America','Guadeloupe']\n",
    "c_1.loc[len(c_1)]=['Oceania','New Caledonia']\n",
    "c_1.loc[len(c_1)]=['Oceania','Cocos (Keeling) Islands']\n",
    "c_1.loc[len(c_1)]=['South America','Turks and Caicos Islands']\n",
    "c_1.loc[len(c_1)]=['Oceania','Cook Islands']\n",
    "c_1.loc[len(c_1)]=['Europe','Svalbard']\n",
    "c_1.loc[len(c_1)]=['South America','American Samoa']\n",
    "c_1.loc[len(c_1)]=['South America','French Guiana']\n",
    "c_1.loc[len(c_1)]=['Asia','Guam']\n",
    "c_1.loc[len(c_1)]=['Asia','Northern Mariana Islands']\n",
    "c_1.loc[len(c_1)]=['South America','Virgin Islands']\n",
    "c_1.loc[len(c_1)]=['Europe','Netherlands Antilles']\n",
    "c_1.loc[len(c_1)]=['Asia','Hong Kong']\n",
    "c_1.loc[len(c_1)]=['Oceania','Christmas Island']\n",
    "c_1.loc[len(c_1)]=['North America','Bermuda']\n",
    "c_1.loc[len(c_1)]=['Africa','Western Sahara']\n",
    "c_1.loc[len(c_1)]=['North America','Cayman Islands']\n",
    "\n",
    "\n",
    "nodes_df = nodes_df.merge(c_1, on='Country', how=\"left\")\n",
    "nodes_df.sort_values(by=\"Altitude\", ascending=False)\n",
    "nodes_df.shape"
   ]
  },
  {
   "cell_type": "code",
   "execution_count": 94,
   "metadata": {},
   "outputs": [
    {
     "data": {
      "text/plain": [
       "(17, 15)"
      ]
     },
     "execution_count": 94,
     "metadata": {},
     "output_type": "execute_result"
    }
   ],
   "source": [
    "# show airports without continent -> missing -> add manually above\n",
    "nodes_df[nodes_df['Continent'].isnull()].shape"
   ]
  },
  {
   "cell_type": "code",
   "execution_count": 30,
   "metadata": {},
   "outputs": [
    {
     "data": {
      "text/plain": [
       "North America    2151\n",
       "Asia             1618\n",
       "Europe           1471\n",
       "Africa            707\n",
       "South America     690\n",
       "Oceania           547\n",
       "Antarctica         14\n",
       "Name: Continent, dtype: int64"
      ]
     },
     "execution_count": 30,
     "metadata": {},
     "output_type": "execute_result"
    }
   ],
   "source": [
    "nodes_df[\"Continent\"].value_counts()"
   ]
  },
  {
   "cell_type": "code",
   "execution_count": 91,
   "metadata": {},
   "outputs": [
    {
     "data": {
      "text/html": [
       "<div>\n",
       "<style scoped>\n",
       "    .dataframe tbody tr th:only-of-type {\n",
       "        vertical-align: middle;\n",
       "    }\n",
       "\n",
       "    .dataframe tbody tr th {\n",
       "        vertical-align: top;\n",
       "    }\n",
       "\n",
       "    .dataframe thead th {\n",
       "        text-align: right;\n",
       "    }\n",
       "</style>\n",
       "<table border=\"1\" class=\"dataframe\">\n",
       "  <thead>\n",
       "    <tr style=\"text-align: right;\">\n",
       "      <th></th>\n",
       "      <th>lat</th>\n",
       "      <th>lon</th>\n",
       "      <th>country</th>\n",
       "      <th>continent</th>\n",
       "      <th>IATA</th>\n",
       "    </tr>\n",
       "    <tr>\n",
       "      <th>Airport_ID</th>\n",
       "      <th></th>\n",
       "      <th></th>\n",
       "      <th></th>\n",
       "      <th></th>\n",
       "      <th></th>\n",
       "    </tr>\n",
       "  </thead>\n",
       "  <tbody>\n",
       "    <tr>\n",
       "      <th>1</th>\n",
       "      <td>-6.081690</td>\n",
       "      <td>145.391998</td>\n",
       "      <td>Papua New Guinea</td>\n",
       "      <td>Oceania</td>\n",
       "      <td>GKA</td>\n",
       "    </tr>\n",
       "    <tr>\n",
       "      <th>2</th>\n",
       "      <td>-5.207080</td>\n",
       "      <td>145.789001</td>\n",
       "      <td>Papua New Guinea</td>\n",
       "      <td>Oceania</td>\n",
       "      <td>MAG</td>\n",
       "    </tr>\n",
       "    <tr>\n",
       "      <th>3</th>\n",
       "      <td>-5.826790</td>\n",
       "      <td>144.296005</td>\n",
       "      <td>Papua New Guinea</td>\n",
       "      <td>Oceania</td>\n",
       "      <td>HGU</td>\n",
       "    </tr>\n",
       "    <tr>\n",
       "      <th>4</th>\n",
       "      <td>-6.569803</td>\n",
       "      <td>146.725977</td>\n",
       "      <td>Papua New Guinea</td>\n",
       "      <td>Oceania</td>\n",
       "      <td>LAE</td>\n",
       "    </tr>\n",
       "    <tr>\n",
       "      <th>5</th>\n",
       "      <td>-9.443380</td>\n",
       "      <td>147.220001</td>\n",
       "      <td>Papua New Guinea</td>\n",
       "      <td>Oceania</td>\n",
       "      <td>POM</td>\n",
       "    </tr>\n",
       "  </tbody>\n",
       "</table>\n",
       "</div>"
      ],
      "text/plain": [
       "                 lat         lon           country continent IATA\n",
       "Airport_ID                                                       \n",
       "1          -6.081690  145.391998  Papua New Guinea   Oceania  GKA\n",
       "2          -5.207080  145.789001  Papua New Guinea   Oceania  MAG\n",
       "3          -5.826790  144.296005  Papua New Guinea   Oceania  HGU\n",
       "4          -6.569803  146.725977  Papua New Guinea   Oceania  LAE\n",
       "5          -9.443380  147.220001  Papua New Guinea   Oceania  POM"
      ]
     },
     "execution_count": 91,
     "metadata": {},
     "output_type": "execute_result"
    }
   ],
   "source": [
    "nodes_df_export = nodes_df[['Latitude','Longitude','Country','Continent','Airport_ID','IATA']]\n",
    "nodes_df_export = nodes_df_export.set_index('Airport_ID')\n",
    "nodes_df_export.columns = [ 'lat', 'lon', 'country', 'continent', 'IATA']\n",
    "nodes_df_export.to_csv('../data/airports.csv')\n",
    "nodes_df_export.head()"
   ]
  },
  {
   "cell_type": "code",
   "execution_count": 96,
   "metadata": {},
   "outputs": [
    {
     "data": {
      "text/plain": [
       "{'lat': -5.20707988739,\n",
       " 'lon': 145.789001465,\n",
       " 'country': 'Papua New Guinea',\n",
       " 'continent': 'Oceania',\n",
       " 'IATA': 'MAG'}"
      ]
     },
     "execution_count": 96,
     "metadata": {},
     "output_type": "execute_result"
    }
   ],
   "source": [
    "_dict = nodes_df_export.to_dict(orient='records')\n",
    "_dict[1]"
   ]
  },
  {
   "cell_type": "code",
   "execution_count": null,
   "metadata": {},
   "outputs": [],
   "source": []
  }
 ],
 "metadata": {
  "kernelspec": {
   "display_name": "Python 3",
   "language": "python",
   "name": "python3"
  },
  "language_info": {
   "codemirror_mode": {
    "name": "ipython",
    "version": 3
   },
   "file_extension": ".py",
   "mimetype": "text/x-python",
   "name": "python",
   "nbconvert_exporter": "python",
   "pygments_lexer": "ipython3",
   "version": "3.6.5"
  }
 },
 "nbformat": 4,
 "nbformat_minor": 2
}
